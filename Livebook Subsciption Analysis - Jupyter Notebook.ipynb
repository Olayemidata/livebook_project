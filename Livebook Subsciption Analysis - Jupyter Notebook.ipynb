{
 "cells": [
  {
   "cell_type": "markdown",
   "id": "17ef079d",
   "metadata": {},
   "source": [
    "### Exploratory Data Analysis"
   ]
  },
  {
   "cell_type": "code",
   "execution_count": 2,
   "id": "936ad550",
   "metadata": {},
   "outputs": [],
   "source": [
    "import numpy as np\n",
    "import pandas as pd\n",
    "import matplotlib.pyplot as plt\n",
    "import seaborn as sns \n",
    "sns.set()"
   ]
  },
  {
   "cell_type": "code",
   "execution_count": 7,
   "id": "86ed66d0",
   "metadata": {},
   "outputs": [
    {
     "data": {
      "text/html": [
       "<div>\n",
       "<style scoped>\n",
       "    .dataframe tbody tr th:only-of-type {\n",
       "        vertical-align: middle;\n",
       "    }\n",
       "\n",
       "    .dataframe tbody tr th {\n",
       "        vertical-align: top;\n",
       "    }\n",
       "\n",
       "    .dataframe thead th {\n",
       "        text-align: right;\n",
       "    }\n",
       "</style>\n",
       "<table border=\"1\" class=\"dataframe\">\n",
       "  <thead>\n",
       "    <tr style=\"text-align: right;\">\n",
       "      <th></th>\n",
       "      <th>account_id</th>\n",
       "      <th>event_time</th>\n",
       "      <th>event_type</th>\n",
       "      <th>product_id</th>\n",
       "      <th>additional_data</th>\n",
       "    </tr>\n",
       "  </thead>\n",
       "  <tbody>\n",
       "    <tr>\n",
       "      <th>0</th>\n",
       "      <td>608aa5969cef2edc29cb0c46deaec9da</td>\n",
       "      <td>2019-11-29 12:10:08.154</td>\n",
       "      <td>DashboardLivebookLinkOpened</td>\n",
       "      <td>1156</td>\n",
       "      <td>/book/learn-dbatools-in-a-month-of-lunches</td>\n",
       "    </tr>\n",
       "    <tr>\n",
       "      <th>1</th>\n",
       "      <td>d07263602248aa70ce1967d6f98f9506</td>\n",
       "      <td>2019-11-29 12:10:19.962</td>\n",
       "      <td>ReadingOwnedBook</td>\n",
       "      <td>610</td>\n",
       "      <td>60s</td>\n",
       "    </tr>\n",
       "    <tr>\n",
       "      <th>2</th>\n",
       "      <td>b7d5902d66127909d0f9d766a841ebb5</td>\n",
       "      <td>2019-11-29 12:11:20.707</td>\n",
       "      <td>ReadingOwnedBook</td>\n",
       "      <td>1172</td>\n",
       "      <td>480s</td>\n",
       "    </tr>\n",
       "    <tr>\n",
       "      <th>3</th>\n",
       "      <td>d07263602248aa70ce1967d6f98f9506</td>\n",
       "      <td>2019-11-29 12:11:41.283</td>\n",
       "      <td>ProductTocLivebookLinkOpened</td>\n",
       "      <td>1066</td>\n",
       "      <td>/book/grokking-machine-learning/chapter-1</td>\n",
       "    </tr>\n",
       "    <tr>\n",
       "      <th>4</th>\n",
       "      <td>89f7601cb558e1c47b00a7fabb6a466c</td>\n",
       "      <td>2019-11-29 12:11:58.253</td>\n",
       "      <td>ReadingOwnedBook</td>\n",
       "      <td>1073</td>\n",
       "      <td>960s</td>\n",
       "    </tr>\n",
       "  </tbody>\n",
       "</table>\n",
       "</div>"
      ],
      "text/plain": [
       "                         account_id               event_time  \\\n",
       "0  608aa5969cef2edc29cb0c46deaec9da  2019-11-29 12:10:08.154   \n",
       "1  d07263602248aa70ce1967d6f98f9506  2019-11-29 12:10:19.962   \n",
       "2  b7d5902d66127909d0f9d766a841ebb5  2019-11-29 12:11:20.707   \n",
       "3  d07263602248aa70ce1967d6f98f9506  2019-11-29 12:11:41.283   \n",
       "4  89f7601cb558e1c47b00a7fabb6a466c  2019-11-29 12:11:58.253   \n",
       "\n",
       "                     event_type  product_id  \\\n",
       "0   DashboardLivebookLinkOpened        1156   \n",
       "1              ReadingOwnedBook         610   \n",
       "2              ReadingOwnedBook        1172   \n",
       "3  ProductTocLivebookLinkOpened        1066   \n",
       "4              ReadingOwnedBook        1073   \n",
       "\n",
       "                              additional_data  \n",
       "0  /book/learn-dbatools-in-a-month-of-lunches  \n",
       "1                                         60s  \n",
       "2                                        480s  \n",
       "3   /book/grokking-machine-learning/chapter-1  \n",
       "4                                        960s  "
      ]
     },
     "execution_count": 7,
     "metadata": {},
     "output_type": "execute_result"
    }
   ],
   "source": [
    "#reading in the dataset \"livebook\"\n",
    "livebook = pd.read_csv(r\"C:\\Users\\USER\\Downloads\\actions2load.csv\\actions2load.csv\")\n",
    "livebook.head()"
   ]
  },
  {
   "cell_type": "code",
   "execution_count": 8,
   "id": "c3b9b582",
   "metadata": {},
   "outputs": [
    {
     "data": {
      "text/plain": [
       "(3242076, 5)"
      ]
     },
     "execution_count": 8,
     "metadata": {},
     "output_type": "execute_result"
    }
   ],
   "source": [
    "#check the number of rows and columns of the dataset\n",
    "livebook.shape"
   ]
  },
  {
   "cell_type": "code",
   "execution_count": 9,
   "id": "4d1722af",
   "metadata": {
    "scrolled": true
   },
   "outputs": [
    {
     "name": "stdout",
     "output_type": "stream",
     "text": [
      "<class 'pandas.core.frame.DataFrame'>\n",
      "RangeIndex: 3242076 entries, 0 to 3242075\n",
      "Data columns (total 5 columns):\n",
      " #   Column           Dtype \n",
      "---  ------           ----- \n",
      " 0   account_id       object\n",
      " 1   event_time       object\n",
      " 2   event_type       object\n",
      " 3   product_id       int64 \n",
      " 4   additional_data  object\n",
      "dtypes: int64(1), object(4)\n",
      "memory usage: 123.7+ MB\n"
     ]
    }
   ],
   "source": [
    "#check some other details of the data\n",
    "livebook.info()"
   ]
  },
  {
   "cell_type": "code",
   "execution_count": 10,
   "id": "037eac26",
   "metadata": {},
   "outputs": [
    {
     "data": {
      "text/plain": [
       "account_id              0\n",
       "event_time              0\n",
       "event_type              0\n",
       "product_id              0\n",
       "additional_data    516123\n",
       "dtype: int64"
      ]
     },
     "execution_count": 10,
     "metadata": {},
     "output_type": "execute_result"
    }
   ],
   "source": [
    "#check for missing values \n",
    "livebook.isnull().sum()"
   ]
  },
  {
   "cell_type": "code",
   "execution_count": 118,
   "id": "031527a4",
   "metadata": {},
   "outputs": [
    {
     "data": {
      "text/plain": [
       "514"
      ]
     },
     "execution_count": 118,
     "metadata": {},
     "output_type": "execute_result"
    }
   ],
   "source": [
    "#check for duplicates\n",
    "livebook.duplicated().sum()"
   ]
  },
  {
   "cell_type": "code",
   "execution_count": 119,
   "id": "f19291c5",
   "metadata": {
    "scrolled": true
   },
   "outputs": [
    {
     "data": {
      "text/plain": [
       "account_id           89467\n",
       "event_time         2940583\n",
       "event_type              35\n",
       "product_id             740\n",
       "additional_data     248390\n",
       "dtype: int64"
      ]
     },
     "execution_count": 119,
     "metadata": {},
     "output_type": "execute_result"
    }
   ],
   "source": [
    "#check the number of unique categories\n",
    "livebook.nunique()"
   ]
  },
  {
   "cell_type": "code",
   "execution_count": 120,
   "id": "1d200980",
   "metadata": {
    "scrolled": true
   },
   "outputs": [
    {
     "data": {
      "text/plain": [
       "Text(0.5, 1.0, 'Cardinality')"
      ]
     },
     "execution_count": 120,
     "metadata": {},
     "output_type": "execute_result"
    },
    {
     "data": {
      "image/png": "[encoded data removed]",
      "text/plain": [
       "<Figure size 1200x600 with 1 Axes>"
      ]
     },
     "metadata": {},
     "output_type": "display_data"
    }
   ],
   "source": [
    "# plot a graph with the cardinality of each variable:\n",
    "livebook.nunique().plot.bar(figsize=(12,6))\n",
    "plt.ylabel('Number of unique categories')\n",
    "plt.xlabel('Variables')\n",
    "plt.title('Cardinality')"
   ]
  },
  {
   "cell_type": "code",
   "execution_count": 121,
   "id": "9c483ffc",
   "metadata": {
    "scrolled": true
   },
   "outputs": [
    {
     "data": {
      "text/plain": [
       "89467"
      ]
     },
     "execution_count": 121,
     "metadata": {},
     "output_type": "execute_result"
    }
   ],
   "source": [
    "#check the number of accounts on livebook \n",
    "livebook['account_id'].nunique()"
   ]
  },
  {
   "cell_type": "code",
   "execution_count": 122,
   "id": "81b67544",
   "metadata": {},
   "outputs": [
    {
     "data": {
      "text/plain": [
       "35"
      ]
     },
     "execution_count": 122,
     "metadata": {},
     "output_type": "execute_result"
    }
   ],
   "source": [
    "#check the number of events \n",
    "livebook['event_type'].nunique()"
   ]
  },
  {
   "cell_type": "code",
   "execution_count": 123,
   "id": "ff1a5a50",
   "metadata": {
    "scrolled": true
   },
   "outputs": [
    {
     "data": {
      "text/plain": [
       "2940583"
      ]
     },
     "execution_count": 123,
     "metadata": {},
     "output_type": "execute_result"
    }
   ],
   "source": [
    "#check the number of times events occured on livebook \n",
    "livebook['event_time'].nunique()"
   ]
  },
  {
   "cell_type": "code",
   "execution_count": 124,
   "id": "1d2df6d9",
   "metadata": {
    "scrolled": true
   },
   "outputs": [
    {
     "data": {
      "text/plain": [
       "2020-05-25 21:06:11.342    11\n",
       "2020-04-23 16:07:05.889     9\n",
       "2020-02-16 09:02:34.838     9\n",
       "2020-04-13 21:57:31.173     8\n",
       "2020-04-11 19:05:24.556     8\n",
       "                           ..\n",
       "2020-03-13 04:54:02.188     1\n",
       "2020-03-13 04:54:02.189     1\n",
       "2020-03-13 04:54:03.769     1\n",
       "2020-03-13 04:54:03.768     1\n",
       "2020-06-04 04:20:13.271     1\n",
       "Name: event_time, Length: 2940583, dtype: int64"
      ]
     },
     "execution_count": 124,
     "metadata": {},
     "output_type": "execute_result"
    }
   ],
   "source": [
    "#check the number of events that occured per time\n",
    "livebook['event_time'].value_counts()"
   ]
  },
  {
   "cell_type": "code",
   "execution_count": 125,
   "id": "7cbef77b",
   "metadata": {
    "scrolled": true
   },
   "outputs": [
    {
     "data": {
      "text/plain": [
       "6bb61e3b7bce0931da574d19d1d82c88    1371593\n",
       "86c876e217ae1ca1cd2986c5521a9768      17357\n",
       "0c2a23a1ce63aa22296072df5cd065f7       5697\n",
       "954c5420b7247345858b62c84d606bb7       5690\n",
       "4de78691553567a9b9e20fde6667773b       4890\n",
       "                                     ...   \n",
       "8a831a7856dc0da98c6be48f705dcce8          1\n",
       "155487ef76edc522f21a6fb177eaed78          1\n",
       "bb7c0b0484f1908b7d85520a0429a826          1\n",
       "b615e5a363163bc167b877cf34037568          1\n",
       "3519f4939d54c1911afa74226a78c3f9          1\n",
       "Name: account_id, Length: 89467, dtype: int64"
      ]
     },
     "execution_count": 125,
     "metadata": {},
     "output_type": "execute_result"
    }
   ],
   "source": [
    "#check the number of times each account carried out an event\n",
    "livebook['account_id'].value_counts()"
   ]
  },
  {
   "cell_type": "code",
   "execution_count": 126,
   "id": "bde55740",
   "metadata": {},
   "outputs": [],
   "source": [
    "acct_events = livebook['account_id'].value_counts()"
   ]
  },
  {
   "cell_type": "code",
   "execution_count": 127,
   "id": "6ec875be",
   "metadata": {},
   "outputs": [],
   "source": [
    "#put the result in a dataframe and reset index\n",
    "acct_events = acct_events.to_frame().reset_index()"
   ]
  },
  {
   "cell_type": "code",
   "execution_count": 128,
   "id": "4c84ca8e",
   "metadata": {},
   "outputs": [],
   "source": [
    "acct_events.columns = [\"Account_id\",\"event_count\"]"
   ]
  },
  {
   "cell_type": "code",
   "execution_count": 129,
   "id": "eeebcd4d",
   "metadata": {},
   "outputs": [
    {
     "data": {
      "text/html": [
       "<div>\n",
       "<style scoped>\n",
       "    .dataframe tbody tr th:only-of-type {\n",
       "        vertical-align: middle;\n",
       "    }\n",
       "\n",
       "    .dataframe tbody tr th {\n",
       "        vertical-align: top;\n",
       "    }\n",
       "\n",
       "    .dataframe thead th {\n",
       "        text-align: right;\n",
       "    }\n",
       "</style>\n",
       "<table border=\"1\" class=\"dataframe\">\n",
       "  <thead>\n",
       "    <tr style=\"text-align: right;\">\n",
       "      <th></th>\n",
       "      <th>Account_id</th>\n",
       "      <th>event_count</th>\n",
       "    </tr>\n",
       "  </thead>\n",
       "  <tbody>\n",
       "    <tr>\n",
       "      <th>0</th>\n",
       "      <td>6bb61e3b7bce0931da574d19d1d82c88</td>\n",
       "      <td>1371593</td>\n",
       "    </tr>\n",
       "    <tr>\n",
       "      <th>1</th>\n",
       "      <td>86c876e217ae1ca1cd2986c5521a9768</td>\n",
       "      <td>17357</td>\n",
       "    </tr>\n",
       "    <tr>\n",
       "      <th>2</th>\n",
       "      <td>0c2a23a1ce63aa22296072df5cd065f7</td>\n",
       "      <td>5697</td>\n",
       "    </tr>\n",
       "    <tr>\n",
       "      <th>3</th>\n",
       "      <td>954c5420b7247345858b62c84d606bb7</td>\n",
       "      <td>5690</td>\n",
       "    </tr>\n",
       "    <tr>\n",
       "      <th>4</th>\n",
       "      <td>4de78691553567a9b9e20fde6667773b</td>\n",
       "      <td>4890</td>\n",
       "    </tr>\n",
       "    <tr>\n",
       "      <th>...</th>\n",
       "      <td>...</td>\n",
       "      <td>...</td>\n",
       "    </tr>\n",
       "    <tr>\n",
       "      <th>89462</th>\n",
       "      <td>8a831a7856dc0da98c6be48f705dcce8</td>\n",
       "      <td>1</td>\n",
       "    </tr>\n",
       "    <tr>\n",
       "      <th>89463</th>\n",
       "      <td>155487ef76edc522f21a6fb177eaed78</td>\n",
       "      <td>1</td>\n",
       "    </tr>\n",
       "    <tr>\n",
       "      <th>89464</th>\n",
       "      <td>bb7c0b0484f1908b7d85520a0429a826</td>\n",
       "      <td>1</td>\n",
       "    </tr>\n",
       "    <tr>\n",
       "      <th>89465</th>\n",
       "      <td>b615e5a363163bc167b877cf34037568</td>\n",
       "      <td>1</td>\n",
       "    </tr>\n",
       "    <tr>\n",
       "      <th>89466</th>\n",
       "      <td>3519f4939d54c1911afa74226a78c3f9</td>\n",
       "      <td>1</td>\n",
       "    </tr>\n",
       "  </tbody>\n",
       "</table>\n",
       "<p>89467 rows × 2 columns</p>\n",
       "</div>"
      ],
      "text/plain": [
       "                             Account_id  event_count\n",
       "0      6bb61e3b7bce0931da574d19d1d82c88      1371593\n",
       "1      86c876e217ae1ca1cd2986c5521a9768        17357\n",
       "2      0c2a23a1ce63aa22296072df5cd065f7         5697\n",
       "3      954c5420b7247345858b62c84d606bb7         5690\n",
       "4      4de78691553567a9b9e20fde6667773b         4890\n",
       "...                                 ...          ...\n",
       "89462  8a831a7856dc0da98c6be48f705dcce8            1\n",
       "89463  155487ef76edc522f21a6fb177eaed78            1\n",
       "89464  bb7c0b0484f1908b7d85520a0429a826            1\n",
       "89465  b615e5a363163bc167b877cf34037568            1\n",
       "89466  3519f4939d54c1911afa74226a78c3f9            1\n",
       "\n",
       "[89467 rows x 2 columns]"
      ]
     },
     "execution_count": 129,
     "metadata": {},
     "output_type": "execute_result"
    }
   ],
   "source": [
    "acct_events"
   ]
  },
  {
   "cell_type": "code",
   "execution_count": 130,
   "id": "d4cd44c8",
   "metadata": {},
   "outputs": [
    {
     "data": {
      "text/html": [
       "<div>\n",
       "<style scoped>\n",
       "    .dataframe tbody tr th:only-of-type {\n",
       "        vertical-align: middle;\n",
       "    }\n",
       "\n",
       "    .dataframe tbody tr th {\n",
       "        vertical-align: top;\n",
       "    }\n",
       "\n",
       "    .dataframe thead th {\n",
       "        text-align: right;\n",
       "    }\n",
       "</style>\n",
       "<table border=\"1\" class=\"dataframe\">\n",
       "  <thead>\n",
       "    <tr style=\"text-align: right;\">\n",
       "      <th></th>\n",
       "      <th>Account_id</th>\n",
       "    </tr>\n",
       "    <tr>\n",
       "      <th>event_count</th>\n",
       "      <th></th>\n",
       "    </tr>\n",
       "  </thead>\n",
       "  <tbody>\n",
       "    <tr>\n",
       "      <th>1</th>\n",
       "      <td>16070</td>\n",
       "    </tr>\n",
       "    <tr>\n",
       "      <th>2</th>\n",
       "      <td>11227</td>\n",
       "    </tr>\n",
       "    <tr>\n",
       "      <th>3</th>\n",
       "      <td>7089</td>\n",
       "    </tr>\n",
       "    <tr>\n",
       "      <th>4</th>\n",
       "      <td>5415</td>\n",
       "    </tr>\n",
       "    <tr>\n",
       "      <th>5</th>\n",
       "      <td>4296</td>\n",
       "    </tr>\n",
       "    <tr>\n",
       "      <th>...</th>\n",
       "      <td>...</td>\n",
       "    </tr>\n",
       "    <tr>\n",
       "      <th>4890</th>\n",
       "      <td>1</td>\n",
       "    </tr>\n",
       "    <tr>\n",
       "      <th>5690</th>\n",
       "      <td>1</td>\n",
       "    </tr>\n",
       "    <tr>\n",
       "      <th>5697</th>\n",
       "      <td>1</td>\n",
       "    </tr>\n",
       "    <tr>\n",
       "      <th>17357</th>\n",
       "      <td>1</td>\n",
       "    </tr>\n",
       "    <tr>\n",
       "      <th>1371593</th>\n",
       "      <td>1</td>\n",
       "    </tr>\n",
       "  </tbody>\n",
       "</table>\n",
       "<p>660 rows × 1 columns</p>\n",
       "</div>"
      ],
      "text/plain": [
       "             Account_id\n",
       "event_count            \n",
       "1                 16070\n",
       "2                 11227\n",
       "3                  7089\n",
       "4                  5415\n",
       "5                  4296\n",
       "...                 ...\n",
       "4890                  1\n",
       "5690                  1\n",
       "5697                  1\n",
       "17357                 1\n",
       "1371593               1\n",
       "\n",
       "[660 rows x 1 columns]"
      ]
     },
     "execution_count": 130,
     "metadata": {},
     "output_type": "execute_result"
    }
   ],
   "source": [
    "#check the number of account_ids per event_count \n",
    "accts_per_eventcount = acct_events.groupby('event_count').count()\n",
    "accts_per_eventcount"
   ]
  },
  {
   "cell_type": "code",
   "execution_count": 131,
   "id": "ebd4bf2d",
   "metadata": {
    "scrolled": true
   },
   "outputs": [
    {
     "data": {
      "text/html": [
       "<div>\n",
       "<style scoped>\n",
       "    .dataframe tbody tr th:only-of-type {\n",
       "        vertical-align: middle;\n",
       "    }\n",
       "\n",
       "    .dataframe tbody tr th {\n",
       "        vertical-align: top;\n",
       "    }\n",
       "\n",
       "    .dataframe thead th {\n",
       "        text-align: right;\n",
       "    }\n",
       "</style>\n",
       "<table border=\"1\" class=\"dataframe\">\n",
       "  <thead>\n",
       "    <tr style=\"text-align: right;\">\n",
       "      <th></th>\n",
       "      <th>Account_id</th>\n",
       "    </tr>\n",
       "    <tr>\n",
       "      <th>event_count</th>\n",
       "      <th></th>\n",
       "    </tr>\n",
       "  </thead>\n",
       "  <tbody>\n",
       "    <tr>\n",
       "      <th>1</th>\n",
       "      <td>16070</td>\n",
       "    </tr>\n",
       "    <tr>\n",
       "      <th>2</th>\n",
       "      <td>11227</td>\n",
       "    </tr>\n",
       "    <tr>\n",
       "      <th>3</th>\n",
       "      <td>7089</td>\n",
       "    </tr>\n",
       "    <tr>\n",
       "      <th>4</th>\n",
       "      <td>5415</td>\n",
       "    </tr>\n",
       "    <tr>\n",
       "      <th>5</th>\n",
       "      <td>4296</td>\n",
       "    </tr>\n",
       "    <tr>\n",
       "      <th>6</th>\n",
       "      <td>3550</td>\n",
       "    </tr>\n",
       "    <tr>\n",
       "      <th>7</th>\n",
       "      <td>3219</td>\n",
       "    </tr>\n",
       "    <tr>\n",
       "      <th>8</th>\n",
       "      <td>2927</td>\n",
       "    </tr>\n",
       "    <tr>\n",
       "      <th>9</th>\n",
       "      <td>2730</td>\n",
       "    </tr>\n",
       "    <tr>\n",
       "      <th>10</th>\n",
       "      <td>2328</td>\n",
       "    </tr>\n",
       "    <tr>\n",
       "      <th>11</th>\n",
       "      <td>2077</td>\n",
       "    </tr>\n",
       "    <tr>\n",
       "      <th>12</th>\n",
       "      <td>1810</td>\n",
       "    </tr>\n",
       "    <tr>\n",
       "      <th>13</th>\n",
       "      <td>1490</td>\n",
       "    </tr>\n",
       "    <tr>\n",
       "      <th>14</th>\n",
       "      <td>1317</td>\n",
       "    </tr>\n",
       "    <tr>\n",
       "      <th>15</th>\n",
       "      <td>1172</td>\n",
       "    </tr>\n",
       "    <tr>\n",
       "      <th>16</th>\n",
       "      <td>1108</td>\n",
       "    </tr>\n",
       "    <tr>\n",
       "      <th>17</th>\n",
       "      <td>999</td>\n",
       "    </tr>\n",
       "    <tr>\n",
       "      <th>18</th>\n",
       "      <td>960</td>\n",
       "    </tr>\n",
       "    <tr>\n",
       "      <th>19</th>\n",
       "      <td>860</td>\n",
       "    </tr>\n",
       "    <tr>\n",
       "      <th>20</th>\n",
       "      <td>813</td>\n",
       "    </tr>\n",
       "  </tbody>\n",
       "</table>\n",
       "</div>"
      ],
      "text/plain": [
       "             Account_id\n",
       "event_count            \n",
       "1                 16070\n",
       "2                 11227\n",
       "3                  7089\n",
       "4                  5415\n",
       "5                  4296\n",
       "6                  3550\n",
       "7                  3219\n",
       "8                  2927\n",
       "9                  2730\n",
       "10                 2328\n",
       "11                 2077\n",
       "12                 1810\n",
       "13                 1490\n",
       "14                 1317\n",
       "15                 1172\n",
       "16                 1108\n",
       "17                  999\n",
       "18                  960\n",
       "19                  860\n",
       "20                  813"
      ]
     },
     "execution_count": 131,
     "metadata": {},
     "output_type": "execute_result"
    }
   ],
   "source": [
    "accts_per_eventcount.head(20)\n"
   ]
  },
  {
   "cell_type": "markdown",
   "id": "b3236b9c",
   "metadata": {},
   "source": [
    "From the above result, we can see that most accounts (16070 in number) carried out only one event"
   ]
  },
  {
   "cell_type": "code",
   "execution_count": 132,
   "id": "216afaee",
   "metadata": {
    "scrolled": true
   },
   "outputs": [
    {
     "data": {
      "text/html": [
       "<div>\n",
       "<style scoped>\n",
       "    .dataframe tbody tr th:only-of-type {\n",
       "        vertical-align: middle;\n",
       "    }\n",
       "\n",
       "    .dataframe tbody tr th {\n",
       "        vertical-align: top;\n",
       "    }\n",
       "\n",
       "    .dataframe thead th {\n",
       "        text-align: right;\n",
       "    }\n",
       "</style>\n",
       "<table border=\"1\" class=\"dataframe\">\n",
       "  <thead>\n",
       "    <tr style=\"text-align: right;\">\n",
       "      <th></th>\n",
       "      <th>Account_id</th>\n",
       "    </tr>\n",
       "    <tr>\n",
       "      <th>event_count</th>\n",
       "      <th></th>\n",
       "    </tr>\n",
       "  </thead>\n",
       "  <tbody>\n",
       "    <tr>\n",
       "      <th>1891</th>\n",
       "      <td>1</td>\n",
       "    </tr>\n",
       "    <tr>\n",
       "      <th>1902</th>\n",
       "      <td>1</td>\n",
       "    </tr>\n",
       "    <tr>\n",
       "      <th>1945</th>\n",
       "      <td>1</td>\n",
       "    </tr>\n",
       "    <tr>\n",
       "      <th>2091</th>\n",
       "      <td>1</td>\n",
       "    </tr>\n",
       "    <tr>\n",
       "      <th>2142</th>\n",
       "      <td>1</td>\n",
       "    </tr>\n",
       "    <tr>\n",
       "      <th>2186</th>\n",
       "      <td>1</td>\n",
       "    </tr>\n",
       "    <tr>\n",
       "      <th>2317</th>\n",
       "      <td>1</td>\n",
       "    </tr>\n",
       "    <tr>\n",
       "      <th>2322</th>\n",
       "      <td>1</td>\n",
       "    </tr>\n",
       "    <tr>\n",
       "      <th>2358</th>\n",
       "      <td>1</td>\n",
       "    </tr>\n",
       "    <tr>\n",
       "      <th>2396</th>\n",
       "      <td>1</td>\n",
       "    </tr>\n",
       "    <tr>\n",
       "      <th>2707</th>\n",
       "      <td>1</td>\n",
       "    </tr>\n",
       "    <tr>\n",
       "      <th>3209</th>\n",
       "      <td>1</td>\n",
       "    </tr>\n",
       "    <tr>\n",
       "      <th>4090</th>\n",
       "      <td>1</td>\n",
       "    </tr>\n",
       "    <tr>\n",
       "      <th>4189</th>\n",
       "      <td>1</td>\n",
       "    </tr>\n",
       "    <tr>\n",
       "      <th>4529</th>\n",
       "      <td>1</td>\n",
       "    </tr>\n",
       "    <tr>\n",
       "      <th>4890</th>\n",
       "      <td>1</td>\n",
       "    </tr>\n",
       "    <tr>\n",
       "      <th>5690</th>\n",
       "      <td>1</td>\n",
       "    </tr>\n",
       "    <tr>\n",
       "      <th>5697</th>\n",
       "      <td>1</td>\n",
       "    </tr>\n",
       "    <tr>\n",
       "      <th>17357</th>\n",
       "      <td>1</td>\n",
       "    </tr>\n",
       "    <tr>\n",
       "      <th>1371593</th>\n",
       "      <td>1</td>\n",
       "    </tr>\n",
       "  </tbody>\n",
       "</table>\n",
       "</div>"
      ],
      "text/plain": [
       "             Account_id\n",
       "event_count            \n",
       "1891                  1\n",
       "1902                  1\n",
       "1945                  1\n",
       "2091                  1\n",
       "2142                  1\n",
       "2186                  1\n",
       "2317                  1\n",
       "2322                  1\n",
       "2358                  1\n",
       "2396                  1\n",
       "2707                  1\n",
       "3209                  1\n",
       "4090                  1\n",
       "4189                  1\n",
       "4529                  1\n",
       "4890                  1\n",
       "5690                  1\n",
       "5697                  1\n",
       "17357                 1\n",
       "1371593               1"
      ]
     },
     "execution_count": 132,
     "metadata": {},
     "output_type": "execute_result"
    }
   ],
   "source": [
    "accts_per_eventcount.tail(20)"
   ]
  },
  {
   "cell_type": "code",
   "execution_count": 133,
   "id": "4d128241",
   "metadata": {},
   "outputs": [
    {
     "data": {
      "text/plain": [
       "6bb61e3b7bce0931da574d19d1d82c88    1371593\n",
       "86c876e217ae1ca1cd2986c5521a9768      17357\n",
       "0c2a23a1ce63aa22296072df5cd065f7       5697\n",
       "954c5420b7247345858b62c84d606bb7       5690\n",
       "4de78691553567a9b9e20fde6667773b       4890\n",
       "023f544de40fb3c2ca4157950d64b2bc       4529\n",
       "caffe2b03e6057845c52212acaaa1a34       4189\n",
       "c5a4e7e6882845ea7bb4d9462868219b       4090\n",
       "4f81b1d964419548f01ca35bbaeeda75       3209\n",
       "3eff5d4b55889abb0a8b08d2136f1b63       2707\n",
       "1cb86261dce6b616c5b77e591be114b6       2396\n",
       "af4aee059f0e65cac9f5660fac3bda73       2358\n",
       "6f4a17e710772ae54e2eae06cb0fd028       2322\n",
       "5f0c27b791e52bd39a208b4e5a8ad94d       2317\n",
       "ca0fc1cc0a47d908c45ed000e08fbc65       2186\n",
       "cd599de17920ac7f372f61b4ba66597d       2142\n",
       "482404b0f54794c41b7989a454c76592       2091\n",
       "ba5fcb73438bf24ee2568a0a0ba30ddc       1945\n",
       "007c07faa0ccfb49ec117750a5c1f990       1902\n",
       "c00614af33e236ce1ac4f0ccbf2c3d26       1891\n",
       "Name: account_id, dtype: int64"
      ]
     },
     "execution_count": 133,
     "metadata": {},
     "output_type": "execute_result"
    }
   ],
   "source": [
    "#check the accounts with the top 20 events \n",
    "livebook['account_id'].value_counts().head(20)"
   ]
  },
  {
   "cell_type": "code",
   "execution_count": 134,
   "id": "85d254bb",
   "metadata": {},
   "outputs": [],
   "source": [
    "#reset index of the value counts after grouping\n",
    "accts_per_eventscount = accts_per_eventcount.reset_index()"
   ]
  },
  {
   "cell_type": "code",
   "execution_count": 135,
   "id": "06a05e7e",
   "metadata": {
    "scrolled": false
   },
   "outputs": [
    {
     "data": {
      "text/html": [
       "<div>\n",
       "<style scoped>\n",
       "    .dataframe tbody tr th:only-of-type {\n",
       "        vertical-align: middle;\n",
       "    }\n",
       "\n",
       "    .dataframe tbody tr th {\n",
       "        vertical-align: top;\n",
       "    }\n",
       "\n",
       "    .dataframe thead th {\n",
       "        text-align: right;\n",
       "    }\n",
       "</style>\n",
       "<table border=\"1\" class=\"dataframe\">\n",
       "  <thead>\n",
       "    <tr style=\"text-align: right;\">\n",
       "      <th></th>\n",
       "      <th>event_count</th>\n",
       "      <th>Account_id</th>\n",
       "    </tr>\n",
       "  </thead>\n",
       "  <tbody>\n",
       "    <tr>\n",
       "      <th>0</th>\n",
       "      <td>1</td>\n",
       "      <td>16070</td>\n",
       "    </tr>\n",
       "    <tr>\n",
       "      <th>1</th>\n",
       "      <td>2</td>\n",
       "      <td>11227</td>\n",
       "    </tr>\n",
       "    <tr>\n",
       "      <th>2</th>\n",
       "      <td>3</td>\n",
       "      <td>7089</td>\n",
       "    </tr>\n",
       "    <tr>\n",
       "      <th>3</th>\n",
       "      <td>4</td>\n",
       "      <td>5415</td>\n",
       "    </tr>\n",
       "    <tr>\n",
       "      <th>4</th>\n",
       "      <td>5</td>\n",
       "      <td>4296</td>\n",
       "    </tr>\n",
       "    <tr>\n",
       "      <th>...</th>\n",
       "      <td>...</td>\n",
       "      <td>...</td>\n",
       "    </tr>\n",
       "    <tr>\n",
       "      <th>655</th>\n",
       "      <td>4890</td>\n",
       "      <td>1</td>\n",
       "    </tr>\n",
       "    <tr>\n",
       "      <th>656</th>\n",
       "      <td>5690</td>\n",
       "      <td>1</td>\n",
       "    </tr>\n",
       "    <tr>\n",
       "      <th>657</th>\n",
       "      <td>5697</td>\n",
       "      <td>1</td>\n",
       "    </tr>\n",
       "    <tr>\n",
       "      <th>658</th>\n",
       "      <td>17357</td>\n",
       "      <td>1</td>\n",
       "    </tr>\n",
       "    <tr>\n",
       "      <th>659</th>\n",
       "      <td>1371593</td>\n",
       "      <td>1</td>\n",
       "    </tr>\n",
       "  </tbody>\n",
       "</table>\n",
       "<p>660 rows × 2 columns</p>\n",
       "</div>"
      ],
      "text/plain": [
       "     event_count  Account_id\n",
       "0              1       16070\n",
       "1              2       11227\n",
       "2              3        7089\n",
       "3              4        5415\n",
       "4              5        4296\n",
       "..           ...         ...\n",
       "655         4890           1\n",
       "656         5690           1\n",
       "657         5697           1\n",
       "658        17357           1\n",
       "659      1371593           1\n",
       "\n",
       "[660 rows x 2 columns]"
      ]
     },
     "execution_count": 135,
     "metadata": {},
     "output_type": "execute_result"
    }
   ],
   "source": [
    "accts_per_eventscount"
   ]
  },
  {
   "cell_type": "code",
   "execution_count": 136,
   "id": "eb7b25dc",
   "metadata": {},
   "outputs": [
    {
     "data": {
      "text/plain": [
       "0.17961930097130785"
      ]
     },
     "execution_count": 136,
     "metadata": {},
     "output_type": "execute_result"
    }
   ],
   "source": [
    "#check percentage of accounts that did only one event to total number of accounts\n",
    "perc_of_one_event = 16070/livebook['account_id'].nunique()\n",
    "perc_of_one_event"
   ]
  },
  {
   "cell_type": "markdown",
   "id": "c6550d36",
   "metadata": {},
   "source": [
    "Approximately 18% of the accounts on livebook have done only one event (which event did this 17% carry out)"
   ]
  },
  {
   "cell_type": "code",
   "execution_count": 137,
   "id": "2ce85f45",
   "metadata": {
    "scrolled": false
   },
   "outputs": [
    {
     "data": {
      "text/plain": [
       "array(['DashboardLivebookLinkOpened', 'ReadingOwnedBook',\n",
       "       'ProductTocLivebookLinkOpened', 'ReadingOpenChapter',\n",
       "       'HighlightCreated', 'BookmarkCreated', 'ReadingFreePreview',\n",
       "       'ProductLookInsideLivebookLinkOpened', 'SearchResultOpened',\n",
       "       'SearchMade', 'ProductLiveaudioUpsell', 'WishlistItemAdded',\n",
       "       'OrderConfirmationLivebookLinkOpened', 'CrossReferenceTermOpened',\n",
       "       'ExerciseSolved', 'UpvoteGiven', 'ShareableLinkOpened',\n",
       "       'ShareableLinkCreated', 'NoteCreated', 'ProductSeeFreeLinkOpened',\n",
       "       'LivebookLogin', 'EBookDownloaded', 'EBookRegistration',\n",
       "       'FreeContentCheckout', 'UnknownOriginLivebookLinkOpened',\n",
       "       'AddProductOffering', 'RemoveProductOffering', 'AddOrUpdateCoupon',\n",
       "       'GoToManningShoppingCart', 'FirstManningAccess',\n",
       "       'FirstLivebookAccess', 'LivebookRegistration',\n",
       "       'LivebookAccountConfirmation', 'SherlockHolmesClueFound',\n",
       "       'CommentCreated'], dtype=object)"
      ]
     },
     "execution_count": 137,
     "metadata": {},
     "output_type": "execute_result"
    }
   ],
   "source": [
    "#check the categories of events \n",
    "livebook['event_type'].unique()"
   ]
  },
  {
   "cell_type": "code",
   "execution_count": 138,
   "id": "04f44c79",
   "metadata": {},
   "outputs": [
    {
     "data": {
      "text/plain": [
       "ReadingOwnedBook                       748260\n",
       "FirstLivebookAccess                    658226\n",
       "FirstManningAccess                     657340\n",
       "EBookDownloaded                        277356\n",
       "ReadingFreePreview                     138197\n",
       "HighlightCreated                       121643\n",
       "FreeContentCheckout                    116183\n",
       "ReadingOpenChapter                     100004\n",
       "ProductTocLivebookLinkOpened            88130\n",
       "LivebookLogin                           62484\n",
       "DashboardLivebookLinkOpened             48308\n",
       "WishlistItemAdded                       37609\n",
       "CrossReferenceTermOpened                34094\n",
       "SearchMade                              27861\n",
       "SearchResultOpened                      24228\n",
       "ProductLookInsideLivebookLinkOpened     22987\n",
       "BookmarkCreated                         10900\n",
       "EBookRegistration                        8842\n",
       "LivebookRegistration                     7702\n",
       "LivebookAccountConfirmation              7309\n",
       "ExerciseSolved                           6971\n",
       "OrderConfirmationLivebookLinkOpened      6739\n",
       "AddProductOffering                       6511\n",
       "NoteCreated                              5181\n",
       "UpvoteGiven                              4815\n",
       "GoToManningShoppingCart                  4608\n",
       "ShareableLinkCreated                     2746\n",
       "ShareableLinkOpened                      2387\n",
       "RemoveProductOffering                    2163\n",
       "AddOrUpdateCoupon                        1277\n",
       "ProductLiveaudioUpsell                    838\n",
       "ProductSeeFreeLinkOpened                  163\n",
       "SherlockHolmesClueFound                    10\n",
       "UnknownOriginLivebookLinkOpened             3\n",
       "CommentCreated                              1\n",
       "Name: event_type, dtype: int64"
      ]
     },
     "execution_count": 138,
     "metadata": {},
     "output_type": "execute_result"
    }
   ],
   "source": [
    "#check the number of times each event type occured and assign the value_counts to a variable\n",
    "freq_of_events = livebook['event_type'].value_counts()\n",
    "freq_of_events"
   ]
  },
  {
   "cell_type": "code",
   "execution_count": 139,
   "id": "279fcdc1",
   "metadata": {
    "scrolled": false
   },
   "outputs": [
    {
     "data": {
      "text/plain": [
       "Text(0.5, 1.0, 'Frequency of events on livebook')"
      ]
     },
     "execution_count": 139,
     "metadata": {},
     "output_type": "execute_result"
    },
    {
     "data": {
      "image/png": "[encoded data removed]",
      "text/plain": [
       "<Figure size 640x480 with 1 Axes>"
      ]
     },
     "metadata": {},
     "output_type": "display_data"
    }
   ],
   "source": [
    "#plot a graph to inspect the frequency of events on livebook \n",
    "\n",
    "fig = freq_of_events.sort_values(ascending=False).plot.bar()\n",
    "fig.set_ylabel('Frequency')\n",
    "fig.set_xlabel('Events')\n",
    "fig.set_title('Frequency of events on livebook')"
   ]
  },
  {
   "cell_type": "code",
   "execution_count": 11,
   "id": "ac21020e",
   "metadata": {},
   "outputs": [],
   "source": [
    "#change time column to datetime\n",
    "livebook['event_time']=pd.to_datetime(livebook['event_time'])"
   ]
  },
  {
   "cell_type": "code",
   "execution_count": 12,
   "id": "f85199fe",
   "metadata": {},
   "outputs": [],
   "source": [
    "#create more columns from date variable \n",
    "\n",
    "livebook['event_year']= livebook['event_time'].dt.year\n",
    "livebook['quarter']=livebook['event_time'].dt.quarter\n",
    "livebook['event_month']= livebook['event_time'].dt.month\n",
    "livebook['day'] = livebook['event_time'].dt.day\n",
    "livebook['day_name'] = livebook['event_time'].dt.day_name()\n",
    "livebook['event_hour']= livebook['event_time'].dt.hour"
   ]
  },
  {
   "cell_type": "code",
   "execution_count": 14,
   "id": "03429b3d",
   "metadata": {},
   "outputs": [
    {
     "data": {
      "text/html": [
       "<div>\n",
       "<style scoped>\n",
       "    .dataframe tbody tr th:only-of-type {\n",
       "        vertical-align: middle;\n",
       "    }\n",
       "\n",
       "    .dataframe tbody tr th {\n",
       "        vertical-align: top;\n",
       "    }\n",
       "\n",
       "    .dataframe thead th {\n",
       "        text-align: right;\n",
       "    }\n",
       "</style>\n",
       "<table border=\"1\" class=\"dataframe\">\n",
       "  <thead>\n",
       "    <tr style=\"text-align: right;\">\n",
       "      <th></th>\n",
       "      <th>account_id</th>\n",
       "      <th>event_time</th>\n",
       "      <th>event_type</th>\n",
       "      <th>product_id</th>\n",
       "      <th>additional_data</th>\n",
       "      <th>event_year</th>\n",
       "      <th>quarter</th>\n",
       "      <th>event_month</th>\n",
       "      <th>day</th>\n",
       "      <th>day_name</th>\n",
       "      <th>event_hour</th>\n",
       "    </tr>\n",
       "  </thead>\n",
       "  <tbody>\n",
       "    <tr>\n",
       "      <th>0</th>\n",
       "      <td>608aa5969cef2edc29cb0c46deaec9da</td>\n",
       "      <td>2019-11-29 12:10:08.154</td>\n",
       "      <td>DashboardLivebookLinkOpened</td>\n",
       "      <td>1156</td>\n",
       "      <td>/book/learn-dbatools-in-a-month-of-lunches</td>\n",
       "      <td>2019</td>\n",
       "      <td>4</td>\n",
       "      <td>11</td>\n",
       "      <td>29</td>\n",
       "      <td>Friday</td>\n",
       "      <td>12</td>\n",
       "    </tr>\n",
       "    <tr>\n",
       "      <th>1</th>\n",
       "      <td>d07263602248aa70ce1967d6f98f9506</td>\n",
       "      <td>2019-11-29 12:10:19.962</td>\n",
       "      <td>ReadingOwnedBook</td>\n",
       "      <td>610</td>\n",
       "      <td>60s</td>\n",
       "      <td>2019</td>\n",
       "      <td>4</td>\n",
       "      <td>11</td>\n",
       "      <td>29</td>\n",
       "      <td>Friday</td>\n",
       "      <td>12</td>\n",
       "    </tr>\n",
       "    <tr>\n",
       "      <th>2</th>\n",
       "      <td>b7d5902d66127909d0f9d766a841ebb5</td>\n",
       "      <td>2019-11-29 12:11:20.707</td>\n",
       "      <td>ReadingOwnedBook</td>\n",
       "      <td>1172</td>\n",
       "      <td>480s</td>\n",
       "      <td>2019</td>\n",
       "      <td>4</td>\n",
       "      <td>11</td>\n",
       "      <td>29</td>\n",
       "      <td>Friday</td>\n",
       "      <td>12</td>\n",
       "    </tr>\n",
       "    <tr>\n",
       "      <th>3</th>\n",
       "      <td>d07263602248aa70ce1967d6f98f9506</td>\n",
       "      <td>2019-11-29 12:11:41.283</td>\n",
       "      <td>ProductTocLivebookLinkOpened</td>\n",
       "      <td>1066</td>\n",
       "      <td>/book/grokking-machine-learning/chapter-1</td>\n",
       "      <td>2019</td>\n",
       "      <td>4</td>\n",
       "      <td>11</td>\n",
       "      <td>29</td>\n",
       "      <td>Friday</td>\n",
       "      <td>12</td>\n",
       "    </tr>\n",
       "    <tr>\n",
       "      <th>4</th>\n",
       "      <td>89f7601cb558e1c47b00a7fabb6a466c</td>\n",
       "      <td>2019-11-29 12:11:58.253</td>\n",
       "      <td>ReadingOwnedBook</td>\n",
       "      <td>1073</td>\n",
       "      <td>960s</td>\n",
       "      <td>2019</td>\n",
       "      <td>4</td>\n",
       "      <td>11</td>\n",
       "      <td>29</td>\n",
       "      <td>Friday</td>\n",
       "      <td>12</td>\n",
       "    </tr>\n",
       "  </tbody>\n",
       "</table>\n",
       "</div>"
      ],
      "text/plain": [
       "                         account_id              event_time  \\\n",
       "0  608aa5969cef2edc29cb0c46deaec9da 2019-11-29 12:10:08.154   \n",
       "1  d07263602248aa70ce1967d6f98f9506 2019-11-29 12:10:19.962   \n",
       "2  b7d5902d66127909d0f9d766a841ebb5 2019-11-29 12:11:20.707   \n",
       "3  d07263602248aa70ce1967d6f98f9506 2019-11-29 12:11:41.283   \n",
       "4  89f7601cb558e1c47b00a7fabb6a466c 2019-11-29 12:11:58.253   \n",
       "\n",
       "                     event_type  product_id  \\\n",
       "0   DashboardLivebookLinkOpened        1156   \n",
       "1              ReadingOwnedBook         610   \n",
       "2              ReadingOwnedBook        1172   \n",
       "3  ProductTocLivebookLinkOpened        1066   \n",
       "4              ReadingOwnedBook        1073   \n",
       "\n",
       "                              additional_data  event_year  quarter  \\\n",
       "0  /book/learn-dbatools-in-a-month-of-lunches        2019        4   \n",
       "1                                         60s        2019        4   \n",
       "2                                        480s        2019        4   \n",
       "3   /book/grokking-machine-learning/chapter-1        2019        4   \n",
       "4                                        960s        2019        4   \n",
       "\n",
       "   event_month  day day_name  event_hour  \n",
       "0           11   29   Friday          12  \n",
       "1           11   29   Friday          12  \n",
       "2           11   29   Friday          12  \n",
       "3           11   29   Friday          12  \n",
       "4           11   29   Friday          12  "
      ]
     },
     "execution_count": 14,
     "metadata": {},
     "output_type": "execute_result"
    }
   ],
   "source": [
    "#inspect data\n",
    "livebook.head()"
   ]
  },
  {
   "cell_type": "code",
   "execution_count": 16,
   "id": "fb30fffa",
   "metadata": {
    "scrolled": false
   },
   "outputs": [
    {
     "data": {
      "text/plain": [
       "Monday       511433\n",
       "Tuesday      506717\n",
       "Wednesday    500201\n",
       "Thursday     487364\n",
       "Friday       458720\n",
       "Sunday       415440\n",
       "Saturday     362201\n",
       "Name: day_name, dtype: int64"
      ]
     },
     "execution_count": 16,
     "metadata": {},
     "output_type": "execute_result"
    }
   ],
   "source": [
    "#check for the day with highest events\n",
    "highest_events_day = livebook['day_name'].value_counts()\n",
    "highest_events_day"
   ]
  },
  {
   "cell_type": "code",
   "execution_count": 17,
   "id": "8c7467ed",
   "metadata": {},
   "outputs": [
    {
     "data": {
      "text/plain": [
       "Text(0.5, 1.0, 'Number of events per day')"
      ]
     },
     "execution_count": 17,
     "metadata": {},
     "output_type": "execute_result"
    },
    {
     "data": {
      "image/png": "[encoded data removed]",
      "text/plain": [
       "<Figure size 640x480 with 1 Axes>"
      ]
     },
     "metadata": {},
     "output_type": "display_data"
    }
   ],
   "source": [
    "#plot a graph to inspect the frequency of events on livebook \n",
    "\n",
    "fig = highest_events_day.sort_values(ascending=False).plot.bar()\n",
    "fig.set_ylabel('Frequency')\n",
    "fig.set_xlabel('Events')\n",
    "fig.set_title('Number of events per day')"
   ]
  },
  {
   "cell_type": "markdown",
   "id": "11c013d8",
   "metadata": {},
   "source": [
    "As we can see from the graph above, most events occured on Mondays while Saturdays had the least events."
   ]
  },
  {
   "cell_type": "markdown",
   "id": "a4a98d32",
   "metadata": {},
   "source": [
    "## PROJECT QUESTIONS"
   ]
  },
  {
   "cell_type": "markdown",
   "id": "e85e35ee",
   "metadata": {},
   "source": [
    "### Step 1: Analyzing Customer Behaviour (Using Python)"
   ]
  },
  {
   "cell_type": "raw",
   "id": "e52dc87c",
   "metadata": {},
   "source": [
    "4. Perform data quality assurance check on “events” (use Python here, you may need \n",
    "to do numeric encoding on “events”)\n",
    "• Do events happen equally at different times of the day or are there patterns (give \n",
    "visualizations)?\n",
    "• Analyze “a particular account_id” for insights on how the person uses the service at \n",
    "different times of the day (Visualizations)?\n",
    "• Are there any gaps(missing data) in the record of any events?\n",
    "• Are there any extreme outliers (class imbalances) in the number of events?\n",
    "5. Ensure data quality assurance\n",
    "• Fix bad data\n",
    "• Correct any missing data/gaps\n",
    "• Fix class imbalance in the “events”"
   ]
  },
  {
   "cell_type": "markdown",
   "id": "8e5073e4",
   "metadata": {},
   "source": [
    "### Question 4a: Do events happen equally at different times of the day or are there patterns (give visualizations)?"
   ]
  },
  {
   "cell_type": "code",
   "execution_count": 140,
   "id": "1b6b2845",
   "metadata": {},
   "outputs": [],
   "source": [
    "# converting event_time to datetime format in order to create a variable for hours\n",
    "\n",
    "livebook['event_time']=pd.to_datetime(livebook['event_time'])"
   ]
  },
  {
   "cell_type": "code",
   "execution_count": 141,
   "id": "cdcd99a1",
   "metadata": {},
   "outputs": [],
   "source": [
    "#Create a new column showing hours\n",
    "livebook['event_hour'] = livebook['event_time'].dt.hour"
   ]
  },
  {
   "cell_type": "code",
   "execution_count": 142,
   "id": "a939ae22",
   "metadata": {},
   "outputs": [],
   "source": [
    "#create time periods function\n",
    "\n",
    "def TimePeriod(hour):\n",
    "    if 0 < hour < 6:\n",
    "        period = \"Dawn\"\n",
    "    elif 5 < hour < 12:\n",
    "        period = \"Morning\"\n",
    "    elif 11 < hour < 17:\n",
    "        period = \"Afternoon\"\n",
    "    elif 16 < hour < 20:\n",
    "        period = \"Evening\"\n",
    "    else:\n",
    "        period = \"Night\"\n",
    "    return period"
   ]
  },
  {
   "cell_type": "code",
   "execution_count": 143,
   "id": "4a3ada32",
   "metadata": {},
   "outputs": [],
   "source": [
    "livebook['time_of_day'] = livebook['event_hour'].apply(TimePeriod)"
   ]
  },
  {
   "cell_type": "code",
   "execution_count": 144,
   "id": "fd870a7a",
   "metadata": {},
   "outputs": [
    {
     "data": {
      "text/html": [
       "<div>\n",
       "<style scoped>\n",
       "    .dataframe tbody tr th:only-of-type {\n",
       "        vertical-align: middle;\n",
       "    }\n",
       "\n",
       "    .dataframe tbody tr th {\n",
       "        vertical-align: top;\n",
       "    }\n",
       "\n",
       "    .dataframe thead th {\n",
       "        text-align: right;\n",
       "    }\n",
       "</style>\n",
       "<table border=\"1\" class=\"dataframe\">\n",
       "  <thead>\n",
       "    <tr style=\"text-align: right;\">\n",
       "      <th></th>\n",
       "      <th>account_id</th>\n",
       "      <th>event_time</th>\n",
       "      <th>event_type</th>\n",
       "      <th>product_id</th>\n",
       "      <th>additional_data</th>\n",
       "      <th>event_hour</th>\n",
       "      <th>time_of_day</th>\n",
       "    </tr>\n",
       "  </thead>\n",
       "  <tbody>\n",
       "    <tr>\n",
       "      <th>0</th>\n",
       "      <td>608aa5969cef2edc29cb0c46deaec9da</td>\n",
       "      <td>2019-11-29 12:10:08.154</td>\n",
       "      <td>DashboardLivebookLinkOpened</td>\n",
       "      <td>1156</td>\n",
       "      <td>/book/learn-dbatools-in-a-month-of-lunches</td>\n",
       "      <td>12</td>\n",
       "      <td>Afternoon</td>\n",
       "    </tr>\n",
       "    <tr>\n",
       "      <th>1</th>\n",
       "      <td>d07263602248aa70ce1967d6f98f9506</td>\n",
       "      <td>2019-11-29 12:10:19.962</td>\n",
       "      <td>ReadingOwnedBook</td>\n",
       "      <td>610</td>\n",
       "      <td>60s</td>\n",
       "      <td>12</td>\n",
       "      <td>Afternoon</td>\n",
       "    </tr>\n",
       "    <tr>\n",
       "      <th>2</th>\n",
       "      <td>b7d5902d66127909d0f9d766a841ebb5</td>\n",
       "      <td>2019-11-29 12:11:20.707</td>\n",
       "      <td>ReadingOwnedBook</td>\n",
       "      <td>1172</td>\n",
       "      <td>480s</td>\n",
       "      <td>12</td>\n",
       "      <td>Afternoon</td>\n",
       "    </tr>\n",
       "    <tr>\n",
       "      <th>3</th>\n",
       "      <td>d07263602248aa70ce1967d6f98f9506</td>\n",
       "      <td>2019-11-29 12:11:41.283</td>\n",
       "      <td>ProductTocLivebookLinkOpened</td>\n",
       "      <td>1066</td>\n",
       "      <td>/book/grokking-machine-learning/chapter-1</td>\n",
       "      <td>12</td>\n",
       "      <td>Afternoon</td>\n",
       "    </tr>\n",
       "    <tr>\n",
       "      <th>4</th>\n",
       "      <td>89f7601cb558e1c47b00a7fabb6a466c</td>\n",
       "      <td>2019-11-29 12:11:58.253</td>\n",
       "      <td>ReadingOwnedBook</td>\n",
       "      <td>1073</td>\n",
       "      <td>960s</td>\n",
       "      <td>12</td>\n",
       "      <td>Afternoon</td>\n",
       "    </tr>\n",
       "  </tbody>\n",
       "</table>\n",
       "</div>"
      ],
      "text/plain": [
       "                         account_id              event_time  \\\n",
       "0  608aa5969cef2edc29cb0c46deaec9da 2019-11-29 12:10:08.154   \n",
       "1  d07263602248aa70ce1967d6f98f9506 2019-11-29 12:10:19.962   \n",
       "2  b7d5902d66127909d0f9d766a841ebb5 2019-11-29 12:11:20.707   \n",
       "3  d07263602248aa70ce1967d6f98f9506 2019-11-29 12:11:41.283   \n",
       "4  89f7601cb558e1c47b00a7fabb6a466c 2019-11-29 12:11:58.253   \n",
       "\n",
       "                     event_type  product_id  \\\n",
       "0   DashboardLivebookLinkOpened        1156   \n",
       "1              ReadingOwnedBook         610   \n",
       "2              ReadingOwnedBook        1172   \n",
       "3  ProductTocLivebookLinkOpened        1066   \n",
       "4              ReadingOwnedBook        1073   \n",
       "\n",
       "                              additional_data  event_hour time_of_day  \n",
       "0  /book/learn-dbatools-in-a-month-of-lunches          12   Afternoon  \n",
       "1                                         60s          12   Afternoon  \n",
       "2                                        480s          12   Afternoon  \n",
       "3   /book/grokking-machine-learning/chapter-1          12   Afternoon  \n",
       "4                                        960s          12   Afternoon  "
      ]
     },
     "execution_count": 144,
     "metadata": {},
     "output_type": "execute_result"
    }
   ],
   "source": [
    "#checking the dataset for the new variable \"time of day\"\n",
    "\n",
    "livebook.head()"
   ]
  },
  {
   "cell_type": "code",
   "execution_count": 145,
   "id": "4314d725",
   "metadata": {},
   "outputs": [
    {
     "data": {
      "text/plain": [
       "Afternoon    839437\n",
       "Morning      805110\n",
       "Night        618664\n",
       "Dawn         524316\n",
       "Evening      454549\n",
       "Name: time_of_day, dtype: int64"
      ]
     },
     "execution_count": 145,
     "metadata": {},
     "output_type": "execute_result"
    }
   ],
   "source": [
    "livebook['time_of_day'].value_counts()"
   ]
  },
  {
   "cell_type": "code",
   "execution_count": 146,
   "id": "b3b84ae8",
   "metadata": {
    "scrolled": true
   },
   "outputs": [
    {
     "data": {
      "text/plain": [
       "14    178815\n",
       "15    175232\n",
       "13    168844\n",
       "16    164146\n",
       "17    154538\n",
       "12    152400\n",
       "19    150504\n",
       "18    149507\n",
       "20    145356\n",
       "9     140293\n",
       "11    140214\n",
       "10    139052\n",
       "8     136298\n",
       "21    135902\n",
       "7     132807\n",
       "0     124535\n",
       "6     116446\n",
       "22    115755\n",
       "1     110457\n",
       "2     107778\n",
       "5     106103\n",
       "3     102092\n",
       "4      97886\n",
       "23     97116\n",
       "Name: event_hour, dtype: int64"
      ]
     },
     "execution_count": 146,
     "metadata": {},
     "output_type": "execute_result"
    }
   ],
   "source": [
    "#value count of the event_hours variable\n",
    "\n",
    "event_hour = livebook['event_hour'].value_counts()\n",
    "event_hour"
   ]
  },
  {
   "cell_type": "code",
   "execution_count": 147,
   "id": "2cf7f383",
   "metadata": {},
   "outputs": [],
   "source": [
    "#creating time periods function to get the time of day\n",
    "\n",
    "def TimePeriod(event_hour):\n",
    "    if 0 <= event_hour < 6:\n",
    "        period = \"Dawn\"\n",
    "    elif 6 < event_hour < 12:\n",
    "        period = \"Morning\"\n",
    "    elif 12 < event_hour < 16:\n",
    "        period = \"Afternoon\"\n",
    "    elif 16 < event_hour < 20:\n",
    "        period = \"Evening\"\n",
    "    else:\n",
    "        period = \"Night\"\n",
    "    return period"
   ]
  },
  {
   "cell_type": "code",
   "execution_count": 148,
   "id": "9c411558",
   "metadata": {},
   "outputs": [],
   "source": [
    "# Value count of time of day\n",
    "\n",
    "time_of_day = livebook['time_of_day'].value_counts()"
   ]
  },
  {
   "cell_type": "code",
   "execution_count": 149,
   "id": "ee00dc15",
   "metadata": {},
   "outputs": [
    {
     "data": {
      "text/plain": [
       "Text(0.5, 1.0, 'FREQUENCY OF EVENTS PER HOUR')"
      ]
     },
     "execution_count": 149,
     "metadata": {},
     "output_type": "execute_result"
    },
    {
     "data": {
      "image/png": "[encoded data removed]",
      "text/plain": [
       "<Figure size 1000x500 with 1 Axes>"
      ]
     },
     "metadata": {},
     "output_type": "display_data"
    }
   ],
   "source": [
    "#plotting a bar chart to visualize event hours\n",
    "\n",
    "event_hour.plot.bar(figsize=(10,5))\n",
    "plt.ylabel('Frequency')\n",
    "plt.xlabel('Hour of the day')\n",
    "plt.title('FREQUENCY OF EVENTS PER HOUR')"
   ]
  },
  {
   "cell_type": "code",
   "execution_count": 150,
   "id": "3c054c67",
   "metadata": {
    "scrolled": true
   },
   "outputs": [
    {
     "data": {
      "text/plain": [
       "Text(0.5, 1.0, 'EVENTS DURING DIFFERENT TIMES OF THE DAY')"
      ]
     },
     "execution_count": 150,
     "metadata": {},
     "output_type": "execute_result"
    },
    {
     "data": {
      "image/png": "[encoded data removed]",
      "text/plain": [
       "<Figure size 800x400 with 1 Axes>"
      ]
     },
     "metadata": {},
     "output_type": "display_data"
    }
   ],
   "source": [
    "#plot a graph to visualize events during different times of the day\n",
    "\n",
    "time_of_day.plot.bar(figsize=(8,4))\n",
    "plt.ylabel('Frequency')\n",
    "plt.xlabel('time_of_day')\n",
    "plt.title('EVENTS DURING DIFFERENT TIMES OF THE DAY')"
   ]
  },
  {
   "cell_type": "markdown",
   "id": "2e18f1a6",
   "metadata": {},
   "source": [
    "As we can see from the hour and time_of_day graphs, events do not happen equally at dfferent times of the day. \n",
    "Most events happen in the afternoon, followed by morning, night, dawn and least events happen during the evening. "
   ]
  },
  {
   "cell_type": "markdown",
   "id": "a998063e",
   "metadata": {},
   "source": [
    "### Question 4b: Analyze “a particular account_id” for insights on how the person uses the service at different times of the day (Visualizations)?"
   ]
  },
  {
   "cell_type": "code",
   "execution_count": 151,
   "id": "86ab153f",
   "metadata": {},
   "outputs": [],
   "source": [
    "#add more time columns to the dataset\n",
    "#create more columns from date variable\n",
    "\n",
    "livebook['event_year']=livebook['event_time'].dt.year\n",
    "livebook['event_month']=livebook['event_time'].dt.month\n",
    "livebook['event_date'] = livebook['event_time'].dt.day\n",
    "livebook['event_day'] = livebook['event_time'].dt.day_name()\n",
    "livebook['event_week']= livebook['event_time'].dt.isocalendar().week"
   ]
  },
  {
   "cell_type": "code",
   "execution_count": 153,
   "id": "97816b95",
   "metadata": {
    "scrolled": true
   },
   "outputs": [],
   "source": [
    "livebook['quarter'] = livebook['event_month'].apply(Quarter)"
   ]
  },
  {
   "cell_type": "code",
   "execution_count": 152,
   "id": "38f3f93b",
   "metadata": {},
   "outputs": [],
   "source": [
    "def Quarter(event_month):\n",
    "    if 0 < event_month < 4:\n",
    "        period = 1\n",
    "    elif 3 < event_month < 7:\n",
    "        period = 2\n",
    "    elif 6 < event_month < 10:\n",
    "        period = 3\n",
    "    else:\n",
    "        period = 4\n",
    "    return period"
   ]
  },
  {
   "cell_type": "code",
   "execution_count": 154,
   "id": "600efab9",
   "metadata": {},
   "outputs": [],
   "source": [
    "#account_id = 'eaecfa7b11e62308832d07ac94dcda6a'\n",
    "account_data = livebook[livebook['account_id'] == 'eaecfa7b11e62308832d07ac94dcda6a']"
   ]
  },
  {
   "cell_type": "code",
   "execution_count": 155,
   "id": "5369525a",
   "metadata": {
    "scrolled": true
   },
   "outputs": [
    {
     "data": {
      "text/html": [
       "<div>\n",
       "<style scoped>\n",
       "    .dataframe tbody tr th:only-of-type {\n",
       "        vertical-align: middle;\n",
       "    }\n",
       "\n",
       "    .dataframe tbody tr th {\n",
       "        vertical-align: top;\n",
       "    }\n",
       "\n",
       "    .dataframe thead th {\n",
       "        text-align: right;\n",
       "    }\n",
       "</style>\n",
       "<table border=\"1\" class=\"dataframe\">\n",
       "  <thead>\n",
       "    <tr style=\"text-align: right;\">\n",
       "      <th></th>\n",
       "      <th>account_id</th>\n",
       "      <th>event_time</th>\n",
       "      <th>event_type</th>\n",
       "      <th>product_id</th>\n",
       "      <th>additional_data</th>\n",
       "      <th>event_hour</th>\n",
       "      <th>time_of_day</th>\n",
       "      <th>event_year</th>\n",
       "      <th>event_month</th>\n",
       "      <th>event_date</th>\n",
       "      <th>event_day</th>\n",
       "      <th>event_week</th>\n",
       "      <th>quarter</th>\n",
       "    </tr>\n",
       "  </thead>\n",
       "  <tbody>\n",
       "    <tr>\n",
       "      <th>5</th>\n",
       "      <td>eaecfa7b11e62308832d07ac94dcda6a</td>\n",
       "      <td>2019-11-29 12:12:00.402</td>\n",
       "      <td>ReadingOwnedBook</td>\n",
       "      <td>887</td>\n",
       "      <td>60s</td>\n",
       "      <td>12</td>\n",
       "      <td>Afternoon</td>\n",
       "      <td>2019</td>\n",
       "      <td>11</td>\n",
       "      <td>29</td>\n",
       "      <td>Friday</td>\n",
       "      <td>48</td>\n",
       "      <td>4</td>\n",
       "    </tr>\n",
       "    <tr>\n",
       "      <th>8</th>\n",
       "      <td>eaecfa7b11e62308832d07ac94dcda6a</td>\n",
       "      <td>2019-11-29 12:13:00.492</td>\n",
       "      <td>ReadingOwnedBook</td>\n",
       "      <td>887</td>\n",
       "      <td>120s</td>\n",
       "      <td>12</td>\n",
       "      <td>Afternoon</td>\n",
       "      <td>2019</td>\n",
       "      <td>11</td>\n",
       "      <td>29</td>\n",
       "      <td>Friday</td>\n",
       "      <td>48</td>\n",
       "      <td>4</td>\n",
       "    </tr>\n",
       "    <tr>\n",
       "      <th>15</th>\n",
       "      <td>eaecfa7b11e62308832d07ac94dcda6a</td>\n",
       "      <td>2019-11-29 12:15:00.768</td>\n",
       "      <td>ReadingOwnedBook</td>\n",
       "      <td>887</td>\n",
       "      <td>240s</td>\n",
       "      <td>12</td>\n",
       "      <td>Afternoon</td>\n",
       "      <td>2019</td>\n",
       "      <td>11</td>\n",
       "      <td>29</td>\n",
       "      <td>Friday</td>\n",
       "      <td>48</td>\n",
       "      <td>4</td>\n",
       "    </tr>\n",
       "    <tr>\n",
       "      <th>403</th>\n",
       "      <td>eaecfa7b11e62308832d07ac94dcda6a</td>\n",
       "      <td>2019-11-29 13:36:05.895</td>\n",
       "      <td>ReadingOwnedBook</td>\n",
       "      <td>887</td>\n",
       "      <td>480s</td>\n",
       "      <td>13</td>\n",
       "      <td>Afternoon</td>\n",
       "      <td>2019</td>\n",
       "      <td>11</td>\n",
       "      <td>29</td>\n",
       "      <td>Friday</td>\n",
       "      <td>48</td>\n",
       "      <td>4</td>\n",
       "    </tr>\n",
       "    <tr>\n",
       "      <th>1865</th>\n",
       "      <td>eaecfa7b11e62308832d07ac94dcda6a</td>\n",
       "      <td>2019-11-29 19:40:40.902</td>\n",
       "      <td>ReadingOwnedBook</td>\n",
       "      <td>887</td>\n",
       "      <td>600s</td>\n",
       "      <td>19</td>\n",
       "      <td>Evening</td>\n",
       "      <td>2019</td>\n",
       "      <td>11</td>\n",
       "      <td>29</td>\n",
       "      <td>Friday</td>\n",
       "      <td>48</td>\n",
       "      <td>4</td>\n",
       "    </tr>\n",
       "    <tr>\n",
       "      <th>1874</th>\n",
       "      <td>eaecfa7b11e62308832d07ac94dcda6a</td>\n",
       "      <td>2019-11-29 19:42:40.906</td>\n",
       "      <td>ReadingOwnedBook</td>\n",
       "      <td>887</td>\n",
       "      <td>720s</td>\n",
       "      <td>19</td>\n",
       "      <td>Evening</td>\n",
       "      <td>2019</td>\n",
       "      <td>11</td>\n",
       "      <td>29</td>\n",
       "      <td>Friday</td>\n",
       "      <td>48</td>\n",
       "      <td>4</td>\n",
       "    </tr>\n",
       "    <tr>\n",
       "      <th>1888</th>\n",
       "      <td>eaecfa7b11e62308832d07ac94dcda6a</td>\n",
       "      <td>2019-11-29 19:47:11.172</td>\n",
       "      <td>ReadingOwnedBook</td>\n",
       "      <td>887</td>\n",
       "      <td>960s</td>\n",
       "      <td>19</td>\n",
       "      <td>Evening</td>\n",
       "      <td>2019</td>\n",
       "      <td>11</td>\n",
       "      <td>29</td>\n",
       "      <td>Friday</td>\n",
       "      <td>48</td>\n",
       "      <td>4</td>\n",
       "    </tr>\n",
       "    <tr>\n",
       "      <th>1897</th>\n",
       "      <td>eaecfa7b11e62308832d07ac94dcda6a</td>\n",
       "      <td>2019-11-29 19:51:11.232</td>\n",
       "      <td>ReadingOwnedBook</td>\n",
       "      <td>887</td>\n",
       "      <td>1200s</td>\n",
       "      <td>19</td>\n",
       "      <td>Evening</td>\n",
       "      <td>2019</td>\n",
       "      <td>11</td>\n",
       "      <td>29</td>\n",
       "      <td>Friday</td>\n",
       "      <td>48</td>\n",
       "      <td>4</td>\n",
       "    </tr>\n",
       "    <tr>\n",
       "      <th>2975</th>\n",
       "      <td>eaecfa7b11e62308832d07ac94dcda6a</td>\n",
       "      <td>2019-11-30 00:09:18.351</td>\n",
       "      <td>ReadingOwnedBook</td>\n",
       "      <td>887</td>\n",
       "      <td>60s</td>\n",
       "      <td>0</td>\n",
       "      <td>Night</td>\n",
       "      <td>2019</td>\n",
       "      <td>11</td>\n",
       "      <td>30</td>\n",
       "      <td>Saturday</td>\n",
       "      <td>48</td>\n",
       "      <td>4</td>\n",
       "    </tr>\n",
       "    <tr>\n",
       "      <th>319970</th>\n",
       "      <td>eaecfa7b11e62308832d07ac94dcda6a</td>\n",
       "      <td>2020-01-02 13:34:52.613</td>\n",
       "      <td>EBookDownloaded</td>\n",
       "      <td>887</td>\n",
       "      <td>NaN</td>\n",
       "      <td>13</td>\n",
       "      <td>Afternoon</td>\n",
       "      <td>2020</td>\n",
       "      <td>1</td>\n",
       "      <td>2</td>\n",
       "      <td>Thursday</td>\n",
       "      <td>1</td>\n",
       "      <td>1</td>\n",
       "    </tr>\n",
       "  </tbody>\n",
       "</table>\n",
       "</div>"
      ],
      "text/plain": [
       "                              account_id              event_time  \\\n",
       "5       eaecfa7b11e62308832d07ac94dcda6a 2019-11-29 12:12:00.402   \n",
       "8       eaecfa7b11e62308832d07ac94dcda6a 2019-11-29 12:13:00.492   \n",
       "15      eaecfa7b11e62308832d07ac94dcda6a 2019-11-29 12:15:00.768   \n",
       "403     eaecfa7b11e62308832d07ac94dcda6a 2019-11-29 13:36:05.895   \n",
       "1865    eaecfa7b11e62308832d07ac94dcda6a 2019-11-29 19:40:40.902   \n",
       "1874    eaecfa7b11e62308832d07ac94dcda6a 2019-11-29 19:42:40.906   \n",
       "1888    eaecfa7b11e62308832d07ac94dcda6a 2019-11-29 19:47:11.172   \n",
       "1897    eaecfa7b11e62308832d07ac94dcda6a 2019-11-29 19:51:11.232   \n",
       "2975    eaecfa7b11e62308832d07ac94dcda6a 2019-11-30 00:09:18.351   \n",
       "319970  eaecfa7b11e62308832d07ac94dcda6a 2020-01-02 13:34:52.613   \n",
       "\n",
       "              event_type  product_id additional_data  event_hour time_of_day  \\\n",
       "5       ReadingOwnedBook         887             60s          12   Afternoon   \n",
       "8       ReadingOwnedBook         887            120s          12   Afternoon   \n",
       "15      ReadingOwnedBook         887            240s          12   Afternoon   \n",
       "403     ReadingOwnedBook         887            480s          13   Afternoon   \n",
       "1865    ReadingOwnedBook         887            600s          19     Evening   \n",
       "1874    ReadingOwnedBook         887            720s          19     Evening   \n",
       "1888    ReadingOwnedBook         887            960s          19     Evening   \n",
       "1897    ReadingOwnedBook         887           1200s          19     Evening   \n",
       "2975    ReadingOwnedBook         887             60s           0       Night   \n",
       "319970   EBookDownloaded         887             NaN          13   Afternoon   \n",
       "\n",
       "        event_year  event_month  event_date event_day  event_week  quarter  \n",
       "5             2019           11          29    Friday          48        4  \n",
       "8             2019           11          29    Friday          48        4  \n",
       "15            2019           11          29    Friday          48        4  \n",
       "403           2019           11          29    Friday          48        4  \n",
       "1865          2019           11          29    Friday          48        4  \n",
       "1874          2019           11          29    Friday          48        4  \n",
       "1888          2019           11          29    Friday          48        4  \n",
       "1897          2019           11          29    Friday          48        4  \n",
       "2975          2019           11          30  Saturday          48        4  \n",
       "319970        2020            1           2  Thursday           1        1  "
      ]
     },
     "execution_count": 155,
     "metadata": {},
     "output_type": "execute_result"
    }
   ],
   "source": [
    "account_data"
   ]
  },
  {
   "cell_type": "code",
   "execution_count": 156,
   "id": "89b54c68",
   "metadata": {},
   "outputs": [
    {
     "data": {
      "text/plain": [
       "(10, 13)"
      ]
     },
     "execution_count": 156,
     "metadata": {},
     "output_type": "execute_result"
    }
   ],
   "source": [
    "account_data.shape"
   ]
  },
  {
   "cell_type": "code",
   "execution_count": 157,
   "id": "9b92440c",
   "metadata": {},
   "outputs": [
    {
     "data": {
      "text/plain": [
       "10"
      ]
     },
     "execution_count": 157,
     "metadata": {},
     "output_type": "execute_result"
    }
   ],
   "source": [
    "account_data['event_time'].nunique()"
   ]
  },
  {
   "cell_type": "code",
   "execution_count": 158,
   "id": "40c264fe",
   "metadata": {
    "scrolled": true
   },
   "outputs": [
    {
     "data": {
      "text/plain": [
       "2019-11-29 12:12:00.402    1\n",
       "2019-11-29 12:13:00.492    1\n",
       "2019-11-29 12:15:00.768    1\n",
       "2019-11-29 13:36:05.895    1\n",
       "2019-11-29 19:40:40.902    1\n",
       "2019-11-29 19:42:40.906    1\n",
       "2019-11-29 19:47:11.172    1\n",
       "2019-11-29 19:51:11.232    1\n",
       "2019-11-30 00:09:18.351    1\n",
       "2020-01-02 13:34:52.613    1\n",
       "Name: event_time, dtype: int64"
      ]
     },
     "execution_count": 158,
     "metadata": {},
     "output_type": "execute_result"
    }
   ],
   "source": [
    "account_data['event_time'].value_counts()"
   ]
  },
  {
   "cell_type": "code",
   "execution_count": 159,
   "id": "995843f6",
   "metadata": {},
   "outputs": [
    {
     "data": {
      "text/plain": [
       "2019    9\n",
       "2020    1\n",
       "Name: event_year, dtype: int64"
      ]
     },
     "execution_count": 159,
     "metadata": {},
     "output_type": "execute_result"
    }
   ],
   "source": [
    "account_data['event_year'].value_counts()"
   ]
  },
  {
   "cell_type": "code",
   "execution_count": 160,
   "id": "be2475ca",
   "metadata": {
    "scrolled": true
   },
   "outputs": [
    {
     "data": {
      "text/plain": [
       "11    9\n",
       "1     1\n",
       "Name: event_month, dtype: int64"
      ]
     },
     "execution_count": 160,
     "metadata": {},
     "output_type": "execute_result"
    }
   ],
   "source": [
    "account_data['event_month'].value_counts()"
   ]
  },
  {
   "cell_type": "code",
   "execution_count": 161,
   "id": "aa280052",
   "metadata": {
    "scrolled": true
   },
   "outputs": [
    {
     "data": {
      "text/plain": [
       "48    9\n",
       "1     1\n",
       "Name: event_week, dtype: Int64"
      ]
     },
     "execution_count": 161,
     "metadata": {},
     "output_type": "execute_result"
    }
   ],
   "source": [
    "account_data['event_week'].value_counts()"
   ]
  },
  {
   "cell_type": "code",
   "execution_count": 162,
   "id": "9ff4e698",
   "metadata": {},
   "outputs": [
    {
     "data": {
      "text/plain": [
       "29    8\n",
       "30    1\n",
       "2     1\n",
       "Name: event_date, dtype: int64"
      ]
     },
     "execution_count": 162,
     "metadata": {},
     "output_type": "execute_result"
    }
   ],
   "source": [
    "account_data['event_date'].value_counts()"
   ]
  },
  {
   "cell_type": "code",
   "execution_count": 163,
   "id": "699a46a8",
   "metadata": {},
   "outputs": [
    {
     "data": {
      "text/plain": [
       "Friday      8\n",
       "Saturday    1\n",
       "Thursday    1\n",
       "Name: event_day, dtype: int64"
      ]
     },
     "execution_count": 163,
     "metadata": {},
     "output_type": "execute_result"
    }
   ],
   "source": [
    "account_data['event_day'].value_counts()"
   ]
  },
  {
   "cell_type": "code",
   "execution_count": 164,
   "id": "0af84366",
   "metadata": {},
   "outputs": [
    {
     "data": {
      "text/plain": [
       "Afternoon    5\n",
       "Evening      4\n",
       "Night        1\n",
       "Name: time_of_day, dtype: int64"
      ]
     },
     "execution_count": 164,
     "metadata": {},
     "output_type": "execute_result"
    }
   ],
   "source": [
    "account_data['time_of_day'].value_counts()"
   ]
  },
  {
   "cell_type": "code",
   "execution_count": 165,
   "id": "2b9611c4",
   "metadata": {},
   "outputs": [],
   "source": [
    "account_data_period = account_data['time_of_day'].value_counts()"
   ]
  },
  {
   "cell_type": "code",
   "execution_count": 166,
   "id": "509079ce",
   "metadata": {},
   "outputs": [
    {
     "data": {
      "text/plain": [
       "Text(0.5, 1.0, 'Events During Different Times of the Day')"
      ]
     },
     "execution_count": 166,
     "metadata": {},
     "output_type": "execute_result"
    },
    {
     "data": {
      "image/png": "[encoded data removed]",
      "text/plain": [
       "<Figure size 800x400 with 1 Axes>"
      ]
     },
     "metadata": {},
     "output_type": "display_data"
    }
   ],
   "source": [
    "#plot a graph to visualize the account's events during different times of the day\n",
    "\n",
    "account_data_period.plot.bar(figsize=(8,4))\n",
    "plt.ylabel('Events')\n",
    "plt.xlabel('time_of_day')\n",
    "plt.title('Events During Different Times of the Day')"
   ]
  },
  {
   "cell_type": "markdown",
   "id": "5f3abb6f",
   "metadata": {},
   "source": [
    "This account did most events on Friday, November 29, 2019. \n",
    "The account did carried out five events in the afternoon, four in the evening and one at night."
   ]
  },
  {
   "cell_type": "markdown",
   "id": "ca41850c",
   "metadata": {},
   "source": [
    "### Question 4c: Are there any gaps(missing data) in the record of any events?"
   ]
  },
  {
   "cell_type": "code",
   "execution_count": 171,
   "id": "9e89df1f",
   "metadata": {
    "scrolled": true
   },
   "outputs": [
    {
     "data": {
      "text/html": [
       "<div>\n",
       "<style scoped>\n",
       "    .dataframe tbody tr th:only-of-type {\n",
       "        vertical-align: middle;\n",
       "    }\n",
       "\n",
       "    .dataframe tbody tr th {\n",
       "        vertical-align: top;\n",
       "    }\n",
       "\n",
       "    .dataframe thead th {\n",
       "        text-align: right;\n",
       "    }\n",
       "</style>\n",
       "<table border=\"1\" class=\"dataframe\">\n",
       "  <thead>\n",
       "    <tr style=\"text-align: right;\">\n",
       "      <th></th>\n",
       "      <th>account_id</th>\n",
       "      <th>event_time</th>\n",
       "      <th>event_type</th>\n",
       "      <th>product_id</th>\n",
       "      <th>additional_data</th>\n",
       "      <th>event_hour</th>\n",
       "      <th>time_of_day</th>\n",
       "      <th>event_year</th>\n",
       "      <th>event_month</th>\n",
       "      <th>event_date</th>\n",
       "      <th>event_day</th>\n",
       "      <th>event_week</th>\n",
       "      <th>quarter</th>\n",
       "    </tr>\n",
       "  </thead>\n",
       "  <tbody>\n",
       "    <tr>\n",
       "      <th>0</th>\n",
       "      <td>608aa5969cef2edc29cb0c46deaec9da</td>\n",
       "      <td>2019-11-29 12:10:08.154</td>\n",
       "      <td>DashboardLivebookLinkOpened</td>\n",
       "      <td>1156</td>\n",
       "      <td>/book/learn-dbatools-in-a-month-of-lunches</td>\n",
       "      <td>12</td>\n",
       "      <td>Afternoon</td>\n",
       "      <td>2019</td>\n",
       "      <td>11</td>\n",
       "      <td>29</td>\n",
       "      <td>Friday</td>\n",
       "      <td>48</td>\n",
       "      <td>4</td>\n",
       "    </tr>\n",
       "    <tr>\n",
       "      <th>1</th>\n",
       "      <td>d07263602248aa70ce1967d6f98f9506</td>\n",
       "      <td>2019-11-29 12:10:19.962</td>\n",
       "      <td>ReadingOwnedBook</td>\n",
       "      <td>610</td>\n",
       "      <td>60s</td>\n",
       "      <td>12</td>\n",
       "      <td>Afternoon</td>\n",
       "      <td>2019</td>\n",
       "      <td>11</td>\n",
       "      <td>29</td>\n",
       "      <td>Friday</td>\n",
       "      <td>48</td>\n",
       "      <td>4</td>\n",
       "    </tr>\n",
       "    <tr>\n",
       "      <th>2</th>\n",
       "      <td>b7d5902d66127909d0f9d766a841ebb5</td>\n",
       "      <td>2019-11-29 12:11:20.707</td>\n",
       "      <td>ReadingOwnedBook</td>\n",
       "      <td>1172</td>\n",
       "      <td>480s</td>\n",
       "      <td>12</td>\n",
       "      <td>Afternoon</td>\n",
       "      <td>2019</td>\n",
       "      <td>11</td>\n",
       "      <td>29</td>\n",
       "      <td>Friday</td>\n",
       "      <td>48</td>\n",
       "      <td>4</td>\n",
       "    </tr>\n",
       "    <tr>\n",
       "      <th>3</th>\n",
       "      <td>d07263602248aa70ce1967d6f98f9506</td>\n",
       "      <td>2019-11-29 12:11:41.283</td>\n",
       "      <td>ProductTocLivebookLinkOpened</td>\n",
       "      <td>1066</td>\n",
       "      <td>/book/grokking-machine-learning/chapter-1</td>\n",
       "      <td>12</td>\n",
       "      <td>Afternoon</td>\n",
       "      <td>2019</td>\n",
       "      <td>11</td>\n",
       "      <td>29</td>\n",
       "      <td>Friday</td>\n",
       "      <td>48</td>\n",
       "      <td>4</td>\n",
       "    </tr>\n",
       "    <tr>\n",
       "      <th>4</th>\n",
       "      <td>89f7601cb558e1c47b00a7fabb6a466c</td>\n",
       "      <td>2019-11-29 12:11:58.253</td>\n",
       "      <td>ReadingOwnedBook</td>\n",
       "      <td>1073</td>\n",
       "      <td>960s</td>\n",
       "      <td>12</td>\n",
       "      <td>Afternoon</td>\n",
       "      <td>2019</td>\n",
       "      <td>11</td>\n",
       "      <td>29</td>\n",
       "      <td>Friday</td>\n",
       "      <td>48</td>\n",
       "      <td>4</td>\n",
       "    </tr>\n",
       "  </tbody>\n",
       "</table>\n",
       "</div>"
      ],
      "text/plain": [
       "                         account_id              event_time  \\\n",
       "0  608aa5969cef2edc29cb0c46deaec9da 2019-11-29 12:10:08.154   \n",
       "1  d07263602248aa70ce1967d6f98f9506 2019-11-29 12:10:19.962   \n",
       "2  b7d5902d66127909d0f9d766a841ebb5 2019-11-29 12:11:20.707   \n",
       "3  d07263602248aa70ce1967d6f98f9506 2019-11-29 12:11:41.283   \n",
       "4  89f7601cb558e1c47b00a7fabb6a466c 2019-11-29 12:11:58.253   \n",
       "\n",
       "                     event_type  product_id  \\\n",
       "0   DashboardLivebookLinkOpened        1156   \n",
       "1              ReadingOwnedBook         610   \n",
       "2              ReadingOwnedBook        1172   \n",
       "3  ProductTocLivebookLinkOpened        1066   \n",
       "4              ReadingOwnedBook        1073   \n",
       "\n",
       "                              additional_data  event_hour time_of_day  \\\n",
       "0  /book/learn-dbatools-in-a-month-of-lunches          12   Afternoon   \n",
       "1                                         60s          12   Afternoon   \n",
       "2                                        480s          12   Afternoon   \n",
       "3   /book/grokking-machine-learning/chapter-1          12   Afternoon   \n",
       "4                                        960s          12   Afternoon   \n",
       "\n",
       "   event_year  event_month  event_date event_day  event_week  quarter  \n",
       "0        2019           11          29    Friday          48        4  \n",
       "1        2019           11          29    Friday          48        4  \n",
       "2        2019           11          29    Friday          48        4  \n",
       "3        2019           11          29    Friday          48        4  \n",
       "4        2019           11          29    Friday          48        4  "
      ]
     },
     "execution_count": 171,
     "metadata": {},
     "output_type": "execute_result"
    }
   ],
   "source": [
    "livebook.head()"
   ]
  },
  {
   "cell_type": "code",
   "execution_count": 172,
   "id": "ba692d3e",
   "metadata": {},
   "outputs": [
    {
     "data": {
      "text/plain": [
       "account_id              0\n",
       "event_time              0\n",
       "event_type              0\n",
       "product_id              0\n",
       "additional_data    516123\n",
       "event_hour              0\n",
       "time_of_day             0\n",
       "event_year              0\n",
       "event_month             0\n",
       "event_date              0\n",
       "event_day               0\n",
       "event_week              0\n",
       "quarter                 0\n",
       "dtype: int64"
      ]
     },
     "execution_count": 172,
     "metadata": {},
     "output_type": "execute_result"
    }
   ],
   "source": [
    "livebook.isnull().sum()"
   ]
  },
  {
   "cell_type": "code",
   "execution_count": 173,
   "id": "ed0d59a1",
   "metadata": {},
   "outputs": [
    {
     "data": {
      "text/plain": [
       "account_id         0.000000\n",
       "event_time         0.000000\n",
       "event_type         0.000000\n",
       "product_id         0.000000\n",
       "additional_data    0.159195\n",
       "event_hour         0.000000\n",
       "time_of_day        0.000000\n",
       "event_year         0.000000\n",
       "event_month        0.000000\n",
       "event_date         0.000000\n",
       "event_day          0.000000\n",
       "event_week         0.000000\n",
       "quarter            0.000000\n",
       "dtype: float64"
      ]
     },
     "execution_count": 173,
     "metadata": {},
     "output_type": "execute_result"
    }
   ],
   "source": [
    "Perc_of_missing_data = livebook.isnull().mean()\n",
    "Perc_of_missing_data"
   ]
  },
  {
   "cell_type": "code",
   "execution_count": 174,
   "id": "a8028a53",
   "metadata": {},
   "outputs": [
    {
     "data": {
      "text/plain": [
       "Text(0.5, 1.0, 'QUANTIFYING MISSING DATA')"
      ]
     },
     "execution_count": 174,
     "metadata": {},
     "output_type": "execute_result"
    },
    {
     "data": {
      "image/png": "[encoded data removed]",
      "text/plain": [
       "<Figure size 800x400 with 1 Axes>"
      ]
     },
     "metadata": {},
     "output_type": "display_data"
    }
   ],
   "source": [
    "#plotting a bar chart to visualize missing data\n",
    "\n",
    "Perc_of_missing_data.plot.bar(figsize=(8,4))\n",
    "plt.ylabel('Percentage of missing data')\n",
    "plt.xlabel('Variables')\n",
    "plt.title('QUANTIFYING MISSING DATA')"
   ]
  },
  {
   "cell_type": "markdown",
   "id": "00030357",
   "metadata": {},
   "source": [
    "Answer: There are no missing gaps or data in the record of any events, which are in event_time and event_type. \n",
    "        The only variable with missing data is additional_data."
   ]
  },
  {
   "cell_type": "markdown",
   "id": "d056bab7",
   "metadata": {},
   "source": [
    "### Question 4d: Are there any extreme outliers (class imbalances) in the number of events?"
   ]
  },
  {
   "cell_type": "code",
   "execution_count": 175,
   "id": "8a1ae81b",
   "metadata": {
    "scrolled": true
   },
   "outputs": [
    {
     "data": {
      "text/plain": [
       "35"
      ]
     },
     "execution_count": 175,
     "metadata": {},
     "output_type": "execute_result"
    }
   ],
   "source": [
    "#check the number of unique categories in event_type\n",
    "livebook['event_type'].nunique()"
   ]
  },
  {
   "cell_type": "code",
   "execution_count": 176,
   "id": "60e636ae",
   "metadata": {
    "scrolled": false
   },
   "outputs": [
    {
     "data": {
      "text/plain": [
       "array(['DashboardLivebookLinkOpened', 'ReadingOwnedBook',\n",
       "       'ProductTocLivebookLinkOpened', 'ReadingOpenChapter',\n",
       "       'HighlightCreated', 'BookmarkCreated', 'ReadingFreePreview',\n",
       "       'ProductLookInsideLivebookLinkOpened', 'SearchResultOpened',\n",
       "       'SearchMade', 'ProductLiveaudioUpsell', 'WishlistItemAdded',\n",
       "       'OrderConfirmationLivebookLinkOpened', 'CrossReferenceTermOpened',\n",
       "       'ExerciseSolved', 'UpvoteGiven', 'ShareableLinkOpened',\n",
       "       'ShareableLinkCreated', 'NoteCreated', 'ProductSeeFreeLinkOpened',\n",
       "       'LivebookLogin', 'EBookDownloaded', 'EBookRegistration',\n",
       "       'FreeContentCheckout', 'UnknownOriginLivebookLinkOpened',\n",
       "       'AddProductOffering', 'RemoveProductOffering', 'AddOrUpdateCoupon',\n",
       "       'GoToManningShoppingCart', 'FirstManningAccess',\n",
       "       'FirstLivebookAccess', 'LivebookRegistration',\n",
       "       'LivebookAccountConfirmation', 'SherlockHolmesClueFound',\n",
       "       'CommentCreated'], dtype=object)"
      ]
     },
     "execution_count": 176,
     "metadata": {},
     "output_type": "execute_result"
    }
   ],
   "source": [
    "#check the unique values in event_type\n",
    "\n",
    "livebook['event_type'].unique()"
   ]
  },
  {
   "cell_type": "code",
   "execution_count": 177,
   "id": "5a69cc6a",
   "metadata": {
    "scrolled": true
   },
   "outputs": [
    {
     "data": {
      "text/plain": [
       "ReadingOwnedBook                       748260\n",
       "FirstLivebookAccess                    658226\n",
       "FirstManningAccess                     657340\n",
       "EBookDownloaded                        277356\n",
       "ReadingFreePreview                     138197\n",
       "HighlightCreated                       121643\n",
       "FreeContentCheckout                    116183\n",
       "ReadingOpenChapter                     100004\n",
       "ProductTocLivebookLinkOpened            88130\n",
       "LivebookLogin                           62484\n",
       "DashboardLivebookLinkOpened             48308\n",
       "WishlistItemAdded                       37609\n",
       "CrossReferenceTermOpened                34094\n",
       "SearchMade                              27861\n",
       "SearchResultOpened                      24228\n",
       "ProductLookInsideLivebookLinkOpened     22987\n",
       "BookmarkCreated                         10900\n",
       "EBookRegistration                        8842\n",
       "LivebookRegistration                     7702\n",
       "LivebookAccountConfirmation              7309\n",
       "ExerciseSolved                           6971\n",
       "OrderConfirmationLivebookLinkOpened      6739\n",
       "AddProductOffering                       6511\n",
       "NoteCreated                              5181\n",
       "UpvoteGiven                              4815\n",
       "GoToManningShoppingCart                  4608\n",
       "ShareableLinkCreated                     2746\n",
       "ShareableLinkOpened                      2387\n",
       "RemoveProductOffering                    2163\n",
       "AddOrUpdateCoupon                        1277\n",
       "ProductLiveaudioUpsell                    838\n",
       "ProductSeeFreeLinkOpened                  163\n",
       "SherlockHolmesClueFound                    10\n",
       "UnknownOriginLivebookLinkOpened             3\n",
       "CommentCreated                              1\n",
       "Name: event_type, dtype: int64"
      ]
     },
     "execution_count": 177,
     "metadata": {},
     "output_type": "execute_result"
    }
   ],
   "source": [
    "#count the number of times each event was carried out\n",
    "\n",
    "livebook['event_type'].value_counts()"
   ]
  },
  {
   "cell_type": "code",
   "execution_count": 178,
   "id": "89db92c5",
   "metadata": {
    "scrolled": false
   },
   "outputs": [
    {
     "data": {
      "text/plain": [
       "Text(0.5, 1.0, 'Frequency of event types')"
      ]
     },
     "execution_count": 178,
     "metadata": {},
     "output_type": "execute_result"
    },
    {
     "data": {
      "image/png": "[encoded data removed]",
      "text/plain": [
       "<Figure size 640x480 with 1 Axes>"
      ]
     },
     "metadata": {},
     "output_type": "display_data"
    }
   ],
   "source": [
    "#plot a graph to visualize the events count\n",
    "fig = livebook['event_type'].value_counts().plot.bar()\n",
    "fig.set_title('Frequency of event types')"
   ]
  },
  {
   "cell_type": "code",
   "execution_count": 179,
   "id": "d6a64e7c",
   "metadata": {},
   "outputs": [],
   "source": [
    "#assign the events value count to a variable\n",
    "events_count = livebook['event_type'].value_counts()"
   ]
  },
  {
   "cell_type": "code",
   "execution_count": 180,
   "id": "9bcf25a7",
   "metadata": {},
   "outputs": [],
   "source": [
    "#reset the index and assign to a variable\n",
    "events_count = events_count.to_frame().reset_index()"
   ]
  },
  {
   "cell_type": "code",
   "execution_count": 181,
   "id": "88a7d28f",
   "metadata": {},
   "outputs": [
    {
     "data": {
      "text/html": [
       "<div>\n",
       "<style scoped>\n",
       "    .dataframe tbody tr th:only-of-type {\n",
       "        vertical-align: middle;\n",
       "    }\n",
       "\n",
       "    .dataframe tbody tr th {\n",
       "        vertical-align: top;\n",
       "    }\n",
       "\n",
       "    .dataframe thead th {\n",
       "        text-align: right;\n",
       "    }\n",
       "</style>\n",
       "<table border=\"1\" class=\"dataframe\">\n",
       "  <thead>\n",
       "    <tr style=\"text-align: right;\">\n",
       "      <th></th>\n",
       "      <th>event_type</th>\n",
       "      <th>count</th>\n",
       "    </tr>\n",
       "  </thead>\n",
       "  <tbody>\n",
       "    <tr>\n",
       "      <th>0</th>\n",
       "      <td>ReadingOwnedBook</td>\n",
       "      <td>748260</td>\n",
       "    </tr>\n",
       "    <tr>\n",
       "      <th>1</th>\n",
       "      <td>FirstLivebookAccess</td>\n",
       "      <td>658226</td>\n",
       "    </tr>\n",
       "    <tr>\n",
       "      <th>2</th>\n",
       "      <td>FirstManningAccess</td>\n",
       "      <td>657340</td>\n",
       "    </tr>\n",
       "    <tr>\n",
       "      <th>3</th>\n",
       "      <td>EBookDownloaded</td>\n",
       "      <td>277356</td>\n",
       "    </tr>\n",
       "    <tr>\n",
       "      <th>4</th>\n",
       "      <td>ReadingFreePreview</td>\n",
       "      <td>138197</td>\n",
       "    </tr>\n",
       "    <tr>\n",
       "      <th>5</th>\n",
       "      <td>HighlightCreated</td>\n",
       "      <td>121643</td>\n",
       "    </tr>\n",
       "    <tr>\n",
       "      <th>6</th>\n",
       "      <td>FreeContentCheckout</td>\n",
       "      <td>116183</td>\n",
       "    </tr>\n",
       "    <tr>\n",
       "      <th>7</th>\n",
       "      <td>ReadingOpenChapter</td>\n",
       "      <td>100004</td>\n",
       "    </tr>\n",
       "    <tr>\n",
       "      <th>8</th>\n",
       "      <td>ProductTocLivebookLinkOpened</td>\n",
       "      <td>88130</td>\n",
       "    </tr>\n",
       "    <tr>\n",
       "      <th>9</th>\n",
       "      <td>LivebookLogin</td>\n",
       "      <td>62484</td>\n",
       "    </tr>\n",
       "    <tr>\n",
       "      <th>10</th>\n",
       "      <td>DashboardLivebookLinkOpened</td>\n",
       "      <td>48308</td>\n",
       "    </tr>\n",
       "    <tr>\n",
       "      <th>11</th>\n",
       "      <td>WishlistItemAdded</td>\n",
       "      <td>37609</td>\n",
       "    </tr>\n",
       "    <tr>\n",
       "      <th>12</th>\n",
       "      <td>CrossReferenceTermOpened</td>\n",
       "      <td>34094</td>\n",
       "    </tr>\n",
       "    <tr>\n",
       "      <th>13</th>\n",
       "      <td>SearchMade</td>\n",
       "      <td>27861</td>\n",
       "    </tr>\n",
       "    <tr>\n",
       "      <th>14</th>\n",
       "      <td>SearchResultOpened</td>\n",
       "      <td>24228</td>\n",
       "    </tr>\n",
       "    <tr>\n",
       "      <th>15</th>\n",
       "      <td>ProductLookInsideLivebookLinkOpened</td>\n",
       "      <td>22987</td>\n",
       "    </tr>\n",
       "    <tr>\n",
       "      <th>16</th>\n",
       "      <td>BookmarkCreated</td>\n",
       "      <td>10900</td>\n",
       "    </tr>\n",
       "    <tr>\n",
       "      <th>17</th>\n",
       "      <td>EBookRegistration</td>\n",
       "      <td>8842</td>\n",
       "    </tr>\n",
       "    <tr>\n",
       "      <th>18</th>\n",
       "      <td>LivebookRegistration</td>\n",
       "      <td>7702</td>\n",
       "    </tr>\n",
       "    <tr>\n",
       "      <th>19</th>\n",
       "      <td>LivebookAccountConfirmation</td>\n",
       "      <td>7309</td>\n",
       "    </tr>\n",
       "    <tr>\n",
       "      <th>20</th>\n",
       "      <td>ExerciseSolved</td>\n",
       "      <td>6971</td>\n",
       "    </tr>\n",
       "    <tr>\n",
       "      <th>21</th>\n",
       "      <td>OrderConfirmationLivebookLinkOpened</td>\n",
       "      <td>6739</td>\n",
       "    </tr>\n",
       "    <tr>\n",
       "      <th>22</th>\n",
       "      <td>AddProductOffering</td>\n",
       "      <td>6511</td>\n",
       "    </tr>\n",
       "    <tr>\n",
       "      <th>23</th>\n",
       "      <td>NoteCreated</td>\n",
       "      <td>5181</td>\n",
       "    </tr>\n",
       "    <tr>\n",
       "      <th>24</th>\n",
       "      <td>UpvoteGiven</td>\n",
       "      <td>4815</td>\n",
       "    </tr>\n",
       "    <tr>\n",
       "      <th>25</th>\n",
       "      <td>GoToManningShoppingCart</td>\n",
       "      <td>4608</td>\n",
       "    </tr>\n",
       "    <tr>\n",
       "      <th>26</th>\n",
       "      <td>ShareableLinkCreated</td>\n",
       "      <td>2746</td>\n",
       "    </tr>\n",
       "    <tr>\n",
       "      <th>27</th>\n",
       "      <td>ShareableLinkOpened</td>\n",
       "      <td>2387</td>\n",
       "    </tr>\n",
       "    <tr>\n",
       "      <th>28</th>\n",
       "      <td>RemoveProductOffering</td>\n",
       "      <td>2163</td>\n",
       "    </tr>\n",
       "    <tr>\n",
       "      <th>29</th>\n",
       "      <td>AddOrUpdateCoupon</td>\n",
       "      <td>1277</td>\n",
       "    </tr>\n",
       "    <tr>\n",
       "      <th>30</th>\n",
       "      <td>ProductLiveaudioUpsell</td>\n",
       "      <td>838</td>\n",
       "    </tr>\n",
       "    <tr>\n",
       "      <th>31</th>\n",
       "      <td>ProductSeeFreeLinkOpened</td>\n",
       "      <td>163</td>\n",
       "    </tr>\n",
       "    <tr>\n",
       "      <th>32</th>\n",
       "      <td>SherlockHolmesClueFound</td>\n",
       "      <td>10</td>\n",
       "    </tr>\n",
       "    <tr>\n",
       "      <th>33</th>\n",
       "      <td>UnknownOriginLivebookLinkOpened</td>\n",
       "      <td>3</td>\n",
       "    </tr>\n",
       "    <tr>\n",
       "      <th>34</th>\n",
       "      <td>CommentCreated</td>\n",
       "      <td>1</td>\n",
       "    </tr>\n",
       "  </tbody>\n",
       "</table>\n",
       "</div>"
      ],
      "text/plain": [
       "                             event_type   count\n",
       "0                      ReadingOwnedBook  748260\n",
       "1                   FirstLivebookAccess  658226\n",
       "2                    FirstManningAccess  657340\n",
       "3                       EBookDownloaded  277356\n",
       "4                    ReadingFreePreview  138197\n",
       "5                      HighlightCreated  121643\n",
       "6                   FreeContentCheckout  116183\n",
       "7                    ReadingOpenChapter  100004\n",
       "8          ProductTocLivebookLinkOpened   88130\n",
       "9                         LivebookLogin   62484\n",
       "10          DashboardLivebookLinkOpened   48308\n",
       "11                    WishlistItemAdded   37609\n",
       "12             CrossReferenceTermOpened   34094\n",
       "13                           SearchMade   27861\n",
       "14                   SearchResultOpened   24228\n",
       "15  ProductLookInsideLivebookLinkOpened   22987\n",
       "16                      BookmarkCreated   10900\n",
       "17                    EBookRegistration    8842\n",
       "18                 LivebookRegistration    7702\n",
       "19          LivebookAccountConfirmation    7309\n",
       "20                       ExerciseSolved    6971\n",
       "21  OrderConfirmationLivebookLinkOpened    6739\n",
       "22                   AddProductOffering    6511\n",
       "23                          NoteCreated    5181\n",
       "24                          UpvoteGiven    4815\n",
       "25              GoToManningShoppingCart    4608\n",
       "26                 ShareableLinkCreated    2746\n",
       "27                  ShareableLinkOpened    2387\n",
       "28                RemoveProductOffering    2163\n",
       "29                    AddOrUpdateCoupon    1277\n",
       "30               ProductLiveaudioUpsell     838\n",
       "31             ProductSeeFreeLinkOpened     163\n",
       "32              SherlockHolmesClueFound      10\n",
       "33      UnknownOriginLivebookLinkOpened       3\n",
       "34                       CommentCreated       1"
      ]
     },
     "execution_count": 181,
     "metadata": {},
     "output_type": "execute_result"
    }
   ],
   "source": [
    "#assign columns to event_count\n",
    "\n",
    "events_count.columns = [\"event_type\",\"count\"]\n",
    "x = events_count['event_type']\n",
    "y = events_count['count']\n",
    "\n",
    "events_count"
   ]
  },
  {
   "cell_type": "code",
   "execution_count": 182,
   "id": "be066338",
   "metadata": {
    "scrolled": true
   },
   "outputs": [
    {
     "data": {
      "text/plain": [
       "Text(0.5, 1.0, 'Checking for outliers')"
      ]
     },
     "execution_count": 182,
     "metadata": {},
     "output_type": "execute_result"
    },
    {
     "data": {
      "image/png": "[encoded data removed]",
      "text/plain": [
       "<Figure size 640x480 with 1 Axes>"
      ]
     },
     "metadata": {},
     "output_type": "display_data"
    }
   ],
   "source": [
    "#use boxplot to check for outliers\n",
    "import seaborn as sns\n",
    "\n",
    "sns.boxplot(y=events_count['count'])\n",
    "plt.title('Checking for outliers')\n"
   ]
  },
  {
   "cell_type": "code",
   "execution_count": 183,
   "id": "05fa0a9f",
   "metadata": {},
   "outputs": [
    {
     "data": {
      "text/plain": [
       "{'whiskers': [<matplotlib.lines.Line2D at 0x1d72f2c7b80>,\n",
       "  <matplotlib.lines.Line2D at 0x1d72f2c7e50>],\n",
       " 'caps': [<matplotlib.lines.Line2D at 0x1d72f2d7160>,\n",
       "  <matplotlib.lines.Line2D at 0x1d72f2d7430>],\n",
       " 'boxes': [<matplotlib.lines.Line2D at 0x1d72f2c78b0>],\n",
       " 'medians': [<matplotlib.lines.Line2D at 0x1d72f2d7700>],\n",
       " 'fliers': [<matplotlib.lines.Line2D at 0x1d72f2d79d0>],\n",
       " 'means': []}"
      ]
     },
     "execution_count": 183,
     "metadata": {},
     "output_type": "execute_result"
    },
    {
     "data": {
      "image/png": "[encoded data removed]",
      "text/plain": [
       "<Figure size 640x480 with 1 Axes>"
      ]
     },
     "metadata": {},
     "output_type": "display_data"
    }
   ],
   "source": [
    "plt.boxplot(events_count['count'])\n"
   ]
  },
  {
   "cell_type": "code",
   "execution_count": 184,
   "id": "f3db240a",
   "metadata": {
    "scrolled": true
   },
   "outputs": [
    {
     "name": "stderr",
     "output_type": "stream",
     "text": [
      "C:\\ProgramData\\Anaconda3\\lib\\site-packages\\seaborn\\distributions.py:2619: FutureWarning: `distplot` is a deprecated function and will be removed in a future version. Please adapt your code to use either `displot` (a figure-level function with similar flexibility) or `histplot` (an axes-level function for histograms).\n",
      "  warnings.warn(msg, FutureWarning)\n"
     ]
    },
    {
     "data": {
      "text/plain": [
       "<AxesSubplot:xlabel='count', ylabel='Density'>"
      ]
     },
     "execution_count": 184,
     "metadata": {},
     "output_type": "execute_result"
    },
    {
     "data": {
      "image/png": "[encoded data removed]",
      "text/plain": [
       "<Figure size 640x480 with 1 Axes>"
      ]
     },
     "metadata": {},
     "output_type": "display_data"
    }
   ],
   "source": [
    "sns.distplot(events_count['count'])"
   ]
  },
  {
   "cell_type": "raw",
   "id": "5261a35f",
   "metadata": {},
   "source": [
    "As we can see from the above graphs, there are some extreme outliers in the number of events."
   ]
  },
  {
   "cell_type": "markdown",
   "id": "76680b24",
   "metadata": {},
   "source": [
    "### Question 5: Ensure data quality assurance\n",
    "• Fix bad data\n",
    "• Correct any missing data/gaps\n",
    "• Fix class imbalance in the “events”"
   ]
  },
  {
   "cell_type": "code",
   "execution_count": 185,
   "id": "4e611caf",
   "metadata": {
    "scrolled": true
   },
   "outputs": [
    {
     "data": {
      "text/html": [
       "<div>\n",
       "<style scoped>\n",
       "    .dataframe tbody tr th:only-of-type {\n",
       "        vertical-align: middle;\n",
       "    }\n",
       "\n",
       "    .dataframe tbody tr th {\n",
       "        vertical-align: top;\n",
       "    }\n",
       "\n",
       "    .dataframe thead th {\n",
       "        text-align: right;\n",
       "    }\n",
       "</style>\n",
       "<table border=\"1\" class=\"dataframe\">\n",
       "  <thead>\n",
       "    <tr style=\"text-align: right;\">\n",
       "      <th></th>\n",
       "      <th>account_id</th>\n",
       "      <th>event_time</th>\n",
       "      <th>event_type</th>\n",
       "      <th>product_id</th>\n",
       "      <th>additional_data</th>\n",
       "      <th>event_hour</th>\n",
       "      <th>time_of_day</th>\n",
       "      <th>event_year</th>\n",
       "      <th>event_month</th>\n",
       "      <th>event_date</th>\n",
       "      <th>event_day</th>\n",
       "      <th>event_week</th>\n",
       "      <th>quarter</th>\n",
       "    </tr>\n",
       "  </thead>\n",
       "  <tbody>\n",
       "    <tr>\n",
       "      <th>0</th>\n",
       "      <td>608aa5969cef2edc29cb0c46deaec9da</td>\n",
       "      <td>2019-11-29 12:10:08.154</td>\n",
       "      <td>DashboardLivebookLinkOpened</td>\n",
       "      <td>1156</td>\n",
       "      <td>/book/learn-dbatools-in-a-month-of-lunches</td>\n",
       "      <td>12</td>\n",
       "      <td>Afternoon</td>\n",
       "      <td>2019</td>\n",
       "      <td>11</td>\n",
       "      <td>29</td>\n",
       "      <td>Friday</td>\n",
       "      <td>48</td>\n",
       "      <td>4</td>\n",
       "    </tr>\n",
       "    <tr>\n",
       "      <th>1</th>\n",
       "      <td>d07263602248aa70ce1967d6f98f9506</td>\n",
       "      <td>2019-11-29 12:10:19.962</td>\n",
       "      <td>ReadingOwnedBook</td>\n",
       "      <td>610</td>\n",
       "      <td>60s</td>\n",
       "      <td>12</td>\n",
       "      <td>Afternoon</td>\n",
       "      <td>2019</td>\n",
       "      <td>11</td>\n",
       "      <td>29</td>\n",
       "      <td>Friday</td>\n",
       "      <td>48</td>\n",
       "      <td>4</td>\n",
       "    </tr>\n",
       "    <tr>\n",
       "      <th>2</th>\n",
       "      <td>b7d5902d66127909d0f9d766a841ebb5</td>\n",
       "      <td>2019-11-29 12:11:20.707</td>\n",
       "      <td>ReadingOwnedBook</td>\n",
       "      <td>1172</td>\n",
       "      <td>480s</td>\n",
       "      <td>12</td>\n",
       "      <td>Afternoon</td>\n",
       "      <td>2019</td>\n",
       "      <td>11</td>\n",
       "      <td>29</td>\n",
       "      <td>Friday</td>\n",
       "      <td>48</td>\n",
       "      <td>4</td>\n",
       "    </tr>\n",
       "    <tr>\n",
       "      <th>3</th>\n",
       "      <td>d07263602248aa70ce1967d6f98f9506</td>\n",
       "      <td>2019-11-29 12:11:41.283</td>\n",
       "      <td>ProductTocLivebookLinkOpened</td>\n",
       "      <td>1066</td>\n",
       "      <td>/book/grokking-machine-learning/chapter-1</td>\n",
       "      <td>12</td>\n",
       "      <td>Afternoon</td>\n",
       "      <td>2019</td>\n",
       "      <td>11</td>\n",
       "      <td>29</td>\n",
       "      <td>Friday</td>\n",
       "      <td>48</td>\n",
       "      <td>4</td>\n",
       "    </tr>\n",
       "    <tr>\n",
       "      <th>4</th>\n",
       "      <td>89f7601cb558e1c47b00a7fabb6a466c</td>\n",
       "      <td>2019-11-29 12:11:58.253</td>\n",
       "      <td>ReadingOwnedBook</td>\n",
       "      <td>1073</td>\n",
       "      <td>960s</td>\n",
       "      <td>12</td>\n",
       "      <td>Afternoon</td>\n",
       "      <td>2019</td>\n",
       "      <td>11</td>\n",
       "      <td>29</td>\n",
       "      <td>Friday</td>\n",
       "      <td>48</td>\n",
       "      <td>4</td>\n",
       "    </tr>\n",
       "  </tbody>\n",
       "</table>\n",
       "</div>"
      ],
      "text/plain": [
       "                         account_id              event_time  \\\n",
       "0  608aa5969cef2edc29cb0c46deaec9da 2019-11-29 12:10:08.154   \n",
       "1  d07263602248aa70ce1967d6f98f9506 2019-11-29 12:10:19.962   \n",
       "2  b7d5902d66127909d0f9d766a841ebb5 2019-11-29 12:11:20.707   \n",
       "3  d07263602248aa70ce1967d6f98f9506 2019-11-29 12:11:41.283   \n",
       "4  89f7601cb558e1c47b00a7fabb6a466c 2019-11-29 12:11:58.253   \n",
       "\n",
       "                     event_type  product_id  \\\n",
       "0   DashboardLivebookLinkOpened        1156   \n",
       "1              ReadingOwnedBook         610   \n",
       "2              ReadingOwnedBook        1172   \n",
       "3  ProductTocLivebookLinkOpened        1066   \n",
       "4              ReadingOwnedBook        1073   \n",
       "\n",
       "                              additional_data  event_hour time_of_day  \\\n",
       "0  /book/learn-dbatools-in-a-month-of-lunches          12   Afternoon   \n",
       "1                                         60s          12   Afternoon   \n",
       "2                                        480s          12   Afternoon   \n",
       "3   /book/grokking-machine-learning/chapter-1          12   Afternoon   \n",
       "4                                        960s          12   Afternoon   \n",
       "\n",
       "   event_year  event_month  event_date event_day  event_week  quarter  \n",
       "0        2019           11          29    Friday          48        4  \n",
       "1        2019           11          29    Friday          48        4  \n",
       "2        2019           11          29    Friday          48        4  \n",
       "3        2019           11          29    Friday          48        4  \n",
       "4        2019           11          29    Friday          48        4  "
      ]
     },
     "execution_count": 185,
     "metadata": {},
     "output_type": "execute_result"
    }
   ],
   "source": [
    "livebook.head()"
   ]
  },
  {
   "cell_type": "code",
   "execution_count": 186,
   "id": "2ad8bc93",
   "metadata": {},
   "outputs": [],
   "source": [
    "#drop columns not needed\n",
    "livebook.drop(['additional_data'], axis=1, inplace=True) "
   ]
  },
  {
   "cell_type": "code",
   "execution_count": 187,
   "id": "cae86f53",
   "metadata": {
    "scrolled": true
   },
   "outputs": [
    {
     "data": {
      "text/html": [
       "<div>\n",
       "<style scoped>\n",
       "    .dataframe tbody tr th:only-of-type {\n",
       "        vertical-align: middle;\n",
       "    }\n",
       "\n",
       "    .dataframe tbody tr th {\n",
       "        vertical-align: top;\n",
       "    }\n",
       "\n",
       "    .dataframe thead th {\n",
       "        text-align: right;\n",
       "    }\n",
       "</style>\n",
       "<table border=\"1\" class=\"dataframe\">\n",
       "  <thead>\n",
       "    <tr style=\"text-align: right;\">\n",
       "      <th></th>\n",
       "      <th>account_id</th>\n",
       "      <th>event_time</th>\n",
       "      <th>event_type</th>\n",
       "      <th>product_id</th>\n",
       "      <th>event_hour</th>\n",
       "      <th>time_of_day</th>\n",
       "      <th>event_year</th>\n",
       "      <th>event_month</th>\n",
       "      <th>event_date</th>\n",
       "      <th>event_day</th>\n",
       "      <th>event_week</th>\n",
       "      <th>quarter</th>\n",
       "    </tr>\n",
       "  </thead>\n",
       "  <tbody>\n",
       "    <tr>\n",
       "      <th>0</th>\n",
       "      <td>608aa5969cef2edc29cb0c46deaec9da</td>\n",
       "      <td>2019-11-29 12:10:08.154</td>\n",
       "      <td>DashboardLivebookLinkOpened</td>\n",
       "      <td>1156</td>\n",
       "      <td>12</td>\n",
       "      <td>Afternoon</td>\n",
       "      <td>2019</td>\n",
       "      <td>11</td>\n",
       "      <td>29</td>\n",
       "      <td>Friday</td>\n",
       "      <td>48</td>\n",
       "      <td>4</td>\n",
       "    </tr>\n",
       "    <tr>\n",
       "      <th>1</th>\n",
       "      <td>d07263602248aa70ce1967d6f98f9506</td>\n",
       "      <td>2019-11-29 12:10:19.962</td>\n",
       "      <td>ReadingOwnedBook</td>\n",
       "      <td>610</td>\n",
       "      <td>12</td>\n",
       "      <td>Afternoon</td>\n",
       "      <td>2019</td>\n",
       "      <td>11</td>\n",
       "      <td>29</td>\n",
       "      <td>Friday</td>\n",
       "      <td>48</td>\n",
       "      <td>4</td>\n",
       "    </tr>\n",
       "    <tr>\n",
       "      <th>2</th>\n",
       "      <td>b7d5902d66127909d0f9d766a841ebb5</td>\n",
       "      <td>2019-11-29 12:11:20.707</td>\n",
       "      <td>ReadingOwnedBook</td>\n",
       "      <td>1172</td>\n",
       "      <td>12</td>\n",
       "      <td>Afternoon</td>\n",
       "      <td>2019</td>\n",
       "      <td>11</td>\n",
       "      <td>29</td>\n",
       "      <td>Friday</td>\n",
       "      <td>48</td>\n",
       "      <td>4</td>\n",
       "    </tr>\n",
       "    <tr>\n",
       "      <th>3</th>\n",
       "      <td>d07263602248aa70ce1967d6f98f9506</td>\n",
       "      <td>2019-11-29 12:11:41.283</td>\n",
       "      <td>ProductTocLivebookLinkOpened</td>\n",
       "      <td>1066</td>\n",
       "      <td>12</td>\n",
       "      <td>Afternoon</td>\n",
       "      <td>2019</td>\n",
       "      <td>11</td>\n",
       "      <td>29</td>\n",
       "      <td>Friday</td>\n",
       "      <td>48</td>\n",
       "      <td>4</td>\n",
       "    </tr>\n",
       "    <tr>\n",
       "      <th>4</th>\n",
       "      <td>89f7601cb558e1c47b00a7fabb6a466c</td>\n",
       "      <td>2019-11-29 12:11:58.253</td>\n",
       "      <td>ReadingOwnedBook</td>\n",
       "      <td>1073</td>\n",
       "      <td>12</td>\n",
       "      <td>Afternoon</td>\n",
       "      <td>2019</td>\n",
       "      <td>11</td>\n",
       "      <td>29</td>\n",
       "      <td>Friday</td>\n",
       "      <td>48</td>\n",
       "      <td>4</td>\n",
       "    </tr>\n",
       "    <tr>\n",
       "      <th>...</th>\n",
       "      <td>...</td>\n",
       "      <td>...</td>\n",
       "      <td>...</td>\n",
       "      <td>...</td>\n",
       "      <td>...</td>\n",
       "      <td>...</td>\n",
       "      <td>...</td>\n",
       "      <td>...</td>\n",
       "      <td>...</td>\n",
       "      <td>...</td>\n",
       "      <td>...</td>\n",
       "      <td>...</td>\n",
       "    </tr>\n",
       "    <tr>\n",
       "      <th>3242071</th>\n",
       "      <td>6bb61e3b7bce0931da574d19d1d82c88</td>\n",
       "      <td>2020-06-04 04:19:56.485</td>\n",
       "      <td>FirstManningAccess</td>\n",
       "      <td>-1</td>\n",
       "      <td>4</td>\n",
       "      <td>Dawn</td>\n",
       "      <td>2020</td>\n",
       "      <td>6</td>\n",
       "      <td>4</td>\n",
       "      <td>Thursday</td>\n",
       "      <td>23</td>\n",
       "      <td>2</td>\n",
       "    </tr>\n",
       "    <tr>\n",
       "      <th>3242072</th>\n",
       "      <td>6bb61e3b7bce0931da574d19d1d82c88</td>\n",
       "      <td>2020-06-04 04:19:56.486</td>\n",
       "      <td>FirstLivebookAccess</td>\n",
       "      <td>-1</td>\n",
       "      <td>4</td>\n",
       "      <td>Dawn</td>\n",
       "      <td>2020</td>\n",
       "      <td>6</td>\n",
       "      <td>4</td>\n",
       "      <td>Thursday</td>\n",
       "      <td>23</td>\n",
       "      <td>2</td>\n",
       "    </tr>\n",
       "    <tr>\n",
       "      <th>3242073</th>\n",
       "      <td>6bb61e3b7bce0931da574d19d1d82c88</td>\n",
       "      <td>2020-06-04 04:19:59.613</td>\n",
       "      <td>FirstLivebookAccess</td>\n",
       "      <td>-1</td>\n",
       "      <td>4</td>\n",
       "      <td>Dawn</td>\n",
       "      <td>2020</td>\n",
       "      <td>6</td>\n",
       "      <td>4</td>\n",
       "      <td>Thursday</td>\n",
       "      <td>23</td>\n",
       "      <td>2</td>\n",
       "    </tr>\n",
       "    <tr>\n",
       "      <th>3242074</th>\n",
       "      <td>6bb61e3b7bce0931da574d19d1d82c88</td>\n",
       "      <td>2020-06-04 04:19:59.612</td>\n",
       "      <td>FirstManningAccess</td>\n",
       "      <td>-1</td>\n",
       "      <td>4</td>\n",
       "      <td>Dawn</td>\n",
       "      <td>2020</td>\n",
       "      <td>6</td>\n",
       "      <td>4</td>\n",
       "      <td>Thursday</td>\n",
       "      <td>23</td>\n",
       "      <td>2</td>\n",
       "    </tr>\n",
       "    <tr>\n",
       "      <th>3242075</th>\n",
       "      <td>3eff5d4b55889abb0a8b08d2136f1b63</td>\n",
       "      <td>2020-06-04 04:20:13.271</td>\n",
       "      <td>ReadingOwnedBook</td>\n",
       "      <td>733</td>\n",
       "      <td>4</td>\n",
       "      <td>Dawn</td>\n",
       "      <td>2020</td>\n",
       "      <td>6</td>\n",
       "      <td>4</td>\n",
       "      <td>Thursday</td>\n",
       "      <td>23</td>\n",
       "      <td>2</td>\n",
       "    </tr>\n",
       "  </tbody>\n",
       "</table>\n",
       "<p>3241424 rows × 12 columns</p>\n",
       "</div>"
      ],
      "text/plain": [
       "                               account_id              event_time  \\\n",
       "0        608aa5969cef2edc29cb0c46deaec9da 2019-11-29 12:10:08.154   \n",
       "1        d07263602248aa70ce1967d6f98f9506 2019-11-29 12:10:19.962   \n",
       "2        b7d5902d66127909d0f9d766a841ebb5 2019-11-29 12:11:20.707   \n",
       "3        d07263602248aa70ce1967d6f98f9506 2019-11-29 12:11:41.283   \n",
       "4        89f7601cb558e1c47b00a7fabb6a466c 2019-11-29 12:11:58.253   \n",
       "...                                   ...                     ...   \n",
       "3242071  6bb61e3b7bce0931da574d19d1d82c88 2020-06-04 04:19:56.485   \n",
       "3242072  6bb61e3b7bce0931da574d19d1d82c88 2020-06-04 04:19:56.486   \n",
       "3242073  6bb61e3b7bce0931da574d19d1d82c88 2020-06-04 04:19:59.613   \n",
       "3242074  6bb61e3b7bce0931da574d19d1d82c88 2020-06-04 04:19:59.612   \n",
       "3242075  3eff5d4b55889abb0a8b08d2136f1b63 2020-06-04 04:20:13.271   \n",
       "\n",
       "                           event_type  product_id  event_hour time_of_day  \\\n",
       "0         DashboardLivebookLinkOpened        1156          12   Afternoon   \n",
       "1                    ReadingOwnedBook         610          12   Afternoon   \n",
       "2                    ReadingOwnedBook        1172          12   Afternoon   \n",
       "3        ProductTocLivebookLinkOpened        1066          12   Afternoon   \n",
       "4                    ReadingOwnedBook        1073          12   Afternoon   \n",
       "...                               ...         ...         ...         ...   \n",
       "3242071            FirstManningAccess          -1           4        Dawn   \n",
       "3242072           FirstLivebookAccess          -1           4        Dawn   \n",
       "3242073           FirstLivebookAccess          -1           4        Dawn   \n",
       "3242074            FirstManningAccess          -1           4        Dawn   \n",
       "3242075              ReadingOwnedBook         733           4        Dawn   \n",
       "\n",
       "         event_year  event_month  event_date event_day  event_week  quarter  \n",
       "0              2019           11          29    Friday          48        4  \n",
       "1              2019           11          29    Friday          48        4  \n",
       "2              2019           11          29    Friday          48        4  \n",
       "3              2019           11          29    Friday          48        4  \n",
       "4              2019           11          29    Friday          48        4  \n",
       "...             ...          ...         ...       ...         ...      ...  \n",
       "3242071        2020            6           4  Thursday          23        2  \n",
       "3242072        2020            6           4  Thursday          23        2  \n",
       "3242073        2020            6           4  Thursday          23        2  \n",
       "3242074        2020            6           4  Thursday          23        2  \n",
       "3242075        2020            6           4  Thursday          23        2  \n",
       "\n",
       "[3241424 rows x 12 columns]"
      ]
     },
     "execution_count": 187,
     "metadata": {},
     "output_type": "execute_result"
    }
   ],
   "source": [
    "#drop duplicated rows in the dataset\n",
    "livebook.drop_duplicates()"
   ]
  },
  {
   "cell_type": "code",
   "execution_count": 188,
   "id": "117c203d",
   "metadata": {},
   "outputs": [],
   "source": [
    "# Fix class imbalance in the events\n",
    "# define function to remove outliers\n",
    "\n",
    "def drop_outlier(data,var):\n",
    "    q1, q3 = np.percentile(data[var], [25, 75])\n",
    "    iqr = q3 - q1\n",
    "    lower = q1 - 1.5*iqr\n",
    "    upper = q3 + 1.5*iqr\n",
    "    data = data[data[var]< upper]\n",
    "    data = data[data[var]> lower]\n",
    "    data.reset_index(drop=True, inplace = True)\n",
    "    return data"
   ]
  },
  {
   "cell_type": "code",
   "execution_count": 189,
   "id": "398dc21a",
   "metadata": {},
   "outputs": [],
   "source": [
    "#drop outliers in events\n",
    "events_count = drop_outlier(events_count, 'count') "
   ]
  },
  {
   "cell_type": "markdown",
   "id": "0af3d375",
   "metadata": {},
   "source": [
    "## Step 2: Forecasting the Next Event Time"
   ]
  },
  {
   "cell_type": "raw",
   "id": "387fa7c4",
   "metadata": {},
   "source": [
    "Tasks (ONLY SELECT/DO ONE)\n",
    "2. Predict the time of the next event for a given account_id using KNN \n",
    "regression. Code implementation assistance is available, after your own work. \n",
    "(Level: Intermediate)\n",
    "Tip: # Filter data for the given account\n",
    "account_id = 'eaecfa7b11e62308832d07ac94dcda6a'\n",
    "account_data = data[data['account_id'] == account_id]\n",
    "3. Predict the time of the next event for a given account_id using XGBOOST\n",
    "regression. Code implementation assistance is available, after your own work.\n",
    "(Level: Intermediate"
   ]
  },
  {
   "cell_type": "code",
   "execution_count": 190,
   "id": "74ed131b",
   "metadata": {},
   "outputs": [],
   "source": [
    "from sklearn.model_selection import train_test_split\n",
    "from sklearn.preprocessing import StandardScaler \n",
    "from sklearn.ensemble import RandomForestClassifier\n",
    "from sklearn.metrics import confusion_matrix, accuracy_score, f1_score, auc, plot_roc_curve,ConfusionMatrixDisplay\n",
    "from sklearn.metrics import roc_curve, roc_auc_score, balanced_accuracy_score, classification_report\n",
    "from sklearn.tree import DecisionTreeRegressor\n",
    "from sklearn.neighbors import KNeighborsRegressor\n",
    "from matplotlib.image import imread\n",
    "from sklearn.metrics import mean_squared_error\n",
    "from sklearn.metrics import mean_absolute_error\n",
    "from sklearn.metrics import r2_score"
   ]
  },
  {
   "cell_type": "code",
   "execution_count": 191,
   "id": "217e0a2b",
   "metadata": {
    "scrolled": true
   },
   "outputs": [
    {
     "data": {
      "text/html": [
       "<div>\n",
       "<style scoped>\n",
       "    .dataframe tbody tr th:only-of-type {\n",
       "        vertical-align: middle;\n",
       "    }\n",
       "\n",
       "    .dataframe tbody tr th {\n",
       "        vertical-align: top;\n",
       "    }\n",
       "\n",
       "    .dataframe thead th {\n",
       "        text-align: right;\n",
       "    }\n",
       "</style>\n",
       "<table border=\"1\" class=\"dataframe\">\n",
       "  <thead>\n",
       "    <tr style=\"text-align: right;\">\n",
       "      <th></th>\n",
       "      <th>account_id</th>\n",
       "      <th>event_time</th>\n",
       "      <th>event_type</th>\n",
       "      <th>product_id</th>\n",
       "      <th>event_hour</th>\n",
       "      <th>time_of_day</th>\n",
       "      <th>event_year</th>\n",
       "      <th>event_month</th>\n",
       "      <th>event_date</th>\n",
       "      <th>event_day</th>\n",
       "      <th>event_week</th>\n",
       "      <th>quarter</th>\n",
       "    </tr>\n",
       "  </thead>\n",
       "  <tbody>\n",
       "    <tr>\n",
       "      <th>0</th>\n",
       "      <td>608aa5969cef2edc29cb0c46deaec9da</td>\n",
       "      <td>2019-11-29 12:10:08.154</td>\n",
       "      <td>DashboardLivebookLinkOpened</td>\n",
       "      <td>1156</td>\n",
       "      <td>12</td>\n",
       "      <td>Afternoon</td>\n",
       "      <td>2019</td>\n",
       "      <td>11</td>\n",
       "      <td>29</td>\n",
       "      <td>Friday</td>\n",
       "      <td>48</td>\n",
       "      <td>4</td>\n",
       "    </tr>\n",
       "    <tr>\n",
       "      <th>1</th>\n",
       "      <td>d07263602248aa70ce1967d6f98f9506</td>\n",
       "      <td>2019-11-29 12:10:19.962</td>\n",
       "      <td>ReadingOwnedBook</td>\n",
       "      <td>610</td>\n",
       "      <td>12</td>\n",
       "      <td>Afternoon</td>\n",
       "      <td>2019</td>\n",
       "      <td>11</td>\n",
       "      <td>29</td>\n",
       "      <td>Friday</td>\n",
       "      <td>48</td>\n",
       "      <td>4</td>\n",
       "    </tr>\n",
       "    <tr>\n",
       "      <th>2</th>\n",
       "      <td>b7d5902d66127909d0f9d766a841ebb5</td>\n",
       "      <td>2019-11-29 12:11:20.707</td>\n",
       "      <td>ReadingOwnedBook</td>\n",
       "      <td>1172</td>\n",
       "      <td>12</td>\n",
       "      <td>Afternoon</td>\n",
       "      <td>2019</td>\n",
       "      <td>11</td>\n",
       "      <td>29</td>\n",
       "      <td>Friday</td>\n",
       "      <td>48</td>\n",
       "      <td>4</td>\n",
       "    </tr>\n",
       "    <tr>\n",
       "      <th>3</th>\n",
       "      <td>d07263602248aa70ce1967d6f98f9506</td>\n",
       "      <td>2019-11-29 12:11:41.283</td>\n",
       "      <td>ProductTocLivebookLinkOpened</td>\n",
       "      <td>1066</td>\n",
       "      <td>12</td>\n",
       "      <td>Afternoon</td>\n",
       "      <td>2019</td>\n",
       "      <td>11</td>\n",
       "      <td>29</td>\n",
       "      <td>Friday</td>\n",
       "      <td>48</td>\n",
       "      <td>4</td>\n",
       "    </tr>\n",
       "    <tr>\n",
       "      <th>4</th>\n",
       "      <td>89f7601cb558e1c47b00a7fabb6a466c</td>\n",
       "      <td>2019-11-29 12:11:58.253</td>\n",
       "      <td>ReadingOwnedBook</td>\n",
       "      <td>1073</td>\n",
       "      <td>12</td>\n",
       "      <td>Afternoon</td>\n",
       "      <td>2019</td>\n",
       "      <td>11</td>\n",
       "      <td>29</td>\n",
       "      <td>Friday</td>\n",
       "      <td>48</td>\n",
       "      <td>4</td>\n",
       "    </tr>\n",
       "  </tbody>\n",
       "</table>\n",
       "</div>"
      ],
      "text/plain": [
       "                         account_id              event_time  \\\n",
       "0  608aa5969cef2edc29cb0c46deaec9da 2019-11-29 12:10:08.154   \n",
       "1  d07263602248aa70ce1967d6f98f9506 2019-11-29 12:10:19.962   \n",
       "2  b7d5902d66127909d0f9d766a841ebb5 2019-11-29 12:11:20.707   \n",
       "3  d07263602248aa70ce1967d6f98f9506 2019-11-29 12:11:41.283   \n",
       "4  89f7601cb558e1c47b00a7fabb6a466c 2019-11-29 12:11:58.253   \n",
       "\n",
       "                     event_type  product_id  event_hour time_of_day  \\\n",
       "0   DashboardLivebookLinkOpened        1156          12   Afternoon   \n",
       "1              ReadingOwnedBook         610          12   Afternoon   \n",
       "2              ReadingOwnedBook        1172          12   Afternoon   \n",
       "3  ProductTocLivebookLinkOpened        1066          12   Afternoon   \n",
       "4              ReadingOwnedBook        1073          12   Afternoon   \n",
       "\n",
       "   event_year  event_month  event_date event_day  event_week  quarter  \n",
       "0        2019           11          29    Friday          48        4  \n",
       "1        2019           11          29    Friday          48        4  \n",
       "2        2019           11          29    Friday          48        4  \n",
       "3        2019           11          29    Friday          48        4  \n",
       "4        2019           11          29    Friday          48        4  "
      ]
     },
     "execution_count": 191,
     "metadata": {},
     "output_type": "execute_result"
    }
   ],
   "source": [
    "livebook.head()"
   ]
  },
  {
   "cell_type": "code",
   "execution_count": 192,
   "id": "0f8ae090",
   "metadata": {},
   "outputs": [],
   "source": [
    "#account_id = 'eaecfa7b11e62308832d07ac94dcda6a'\n",
    "account_data = livebook[livebook['account_id'] == 'eaecfa7b11e62308832d07ac94dcda6a']"
   ]
  },
  {
   "cell_type": "code",
   "execution_count": 193,
   "id": "80755441",
   "metadata": {},
   "outputs": [
    {
     "data": {
      "text/html": [
       "<div>\n",
       "<style scoped>\n",
       "    .dataframe tbody tr th:only-of-type {\n",
       "        vertical-align: middle;\n",
       "    }\n",
       "\n",
       "    .dataframe tbody tr th {\n",
       "        vertical-align: top;\n",
       "    }\n",
       "\n",
       "    .dataframe thead th {\n",
       "        text-align: right;\n",
       "    }\n",
       "</style>\n",
       "<table border=\"1\" class=\"dataframe\">\n",
       "  <thead>\n",
       "    <tr style=\"text-align: right;\">\n",
       "      <th></th>\n",
       "      <th>index</th>\n",
       "      <th>account_id</th>\n",
       "      <th>event_time</th>\n",
       "      <th>event_type</th>\n",
       "      <th>product_id</th>\n",
       "      <th>event_hour</th>\n",
       "      <th>time_of_day</th>\n",
       "      <th>event_year</th>\n",
       "      <th>event_month</th>\n",
       "      <th>event_date</th>\n",
       "      <th>event_day</th>\n",
       "      <th>event_week</th>\n",
       "      <th>quarter</th>\n",
       "    </tr>\n",
       "  </thead>\n",
       "  <tbody>\n",
       "    <tr>\n",
       "      <th>0</th>\n",
       "      <td>5</td>\n",
       "      <td>eaecfa7b11e62308832d07ac94dcda6a</td>\n",
       "      <td>2019-11-29 12:12:00.402</td>\n",
       "      <td>ReadingOwnedBook</td>\n",
       "      <td>887</td>\n",
       "      <td>12</td>\n",
       "      <td>Afternoon</td>\n",
       "      <td>2019</td>\n",
       "      <td>11</td>\n",
       "      <td>29</td>\n",
       "      <td>Friday</td>\n",
       "      <td>48</td>\n",
       "      <td>4</td>\n",
       "    </tr>\n",
       "    <tr>\n",
       "      <th>1</th>\n",
       "      <td>8</td>\n",
       "      <td>eaecfa7b11e62308832d07ac94dcda6a</td>\n",
       "      <td>2019-11-29 12:13:00.492</td>\n",
       "      <td>ReadingOwnedBook</td>\n",
       "      <td>887</td>\n",
       "      <td>12</td>\n",
       "      <td>Afternoon</td>\n",
       "      <td>2019</td>\n",
       "      <td>11</td>\n",
       "      <td>29</td>\n",
       "      <td>Friday</td>\n",
       "      <td>48</td>\n",
       "      <td>4</td>\n",
       "    </tr>\n",
       "    <tr>\n",
       "      <th>2</th>\n",
       "      <td>15</td>\n",
       "      <td>eaecfa7b11e62308832d07ac94dcda6a</td>\n",
       "      <td>2019-11-29 12:15:00.768</td>\n",
       "      <td>ReadingOwnedBook</td>\n",
       "      <td>887</td>\n",
       "      <td>12</td>\n",
       "      <td>Afternoon</td>\n",
       "      <td>2019</td>\n",
       "      <td>11</td>\n",
       "      <td>29</td>\n",
       "      <td>Friday</td>\n",
       "      <td>48</td>\n",
       "      <td>4</td>\n",
       "    </tr>\n",
       "    <tr>\n",
       "      <th>3</th>\n",
       "      <td>403</td>\n",
       "      <td>eaecfa7b11e62308832d07ac94dcda6a</td>\n",
       "      <td>2019-11-29 13:36:05.895</td>\n",
       "      <td>ReadingOwnedBook</td>\n",
       "      <td>887</td>\n",
       "      <td>13</td>\n",
       "      <td>Afternoon</td>\n",
       "      <td>2019</td>\n",
       "      <td>11</td>\n",
       "      <td>29</td>\n",
       "      <td>Friday</td>\n",
       "      <td>48</td>\n",
       "      <td>4</td>\n",
       "    </tr>\n",
       "    <tr>\n",
       "      <th>4</th>\n",
       "      <td>1865</td>\n",
       "      <td>eaecfa7b11e62308832d07ac94dcda6a</td>\n",
       "      <td>2019-11-29 19:40:40.902</td>\n",
       "      <td>ReadingOwnedBook</td>\n",
       "      <td>887</td>\n",
       "      <td>19</td>\n",
       "      <td>Evening</td>\n",
       "      <td>2019</td>\n",
       "      <td>11</td>\n",
       "      <td>29</td>\n",
       "      <td>Friday</td>\n",
       "      <td>48</td>\n",
       "      <td>4</td>\n",
       "    </tr>\n",
       "  </tbody>\n",
       "</table>\n",
       "</div>"
      ],
      "text/plain": [
       "   index                        account_id              event_time  \\\n",
       "0      5  eaecfa7b11e62308832d07ac94dcda6a 2019-11-29 12:12:00.402   \n",
       "1      8  eaecfa7b11e62308832d07ac94dcda6a 2019-11-29 12:13:00.492   \n",
       "2     15  eaecfa7b11e62308832d07ac94dcda6a 2019-11-29 12:15:00.768   \n",
       "3    403  eaecfa7b11e62308832d07ac94dcda6a 2019-11-29 13:36:05.895   \n",
       "4   1865  eaecfa7b11e62308832d07ac94dcda6a 2019-11-29 19:40:40.902   \n",
       "\n",
       "         event_type  product_id  event_hour time_of_day  event_year  \\\n",
       "0  ReadingOwnedBook         887          12   Afternoon        2019   \n",
       "1  ReadingOwnedBook         887          12   Afternoon        2019   \n",
       "2  ReadingOwnedBook         887          12   Afternoon        2019   \n",
       "3  ReadingOwnedBook         887          13   Afternoon        2019   \n",
       "4  ReadingOwnedBook         887          19     Evening        2019   \n",
       "\n",
       "   event_month  event_date event_day  event_week  quarter  \n",
       "0           11          29    Friday          48        4  \n",
       "1           11          29    Friday          48        4  \n",
       "2           11          29    Friday          48        4  \n",
       "3           11          29    Friday          48        4  \n",
       "4           11          29    Friday          48        4  "
      ]
     },
     "execution_count": 193,
     "metadata": {},
     "output_type": "execute_result"
    }
   ],
   "source": [
    "#reset index for the account analysed and check the data\n",
    "\n",
    "account_data = account_data.reset_index()\n",
    "account_data.head()"
   ]
  },
  {
   "cell_type": "code",
   "execution_count": 194,
   "id": "bcd96b5f",
   "metadata": {},
   "outputs": [],
   "source": [
    "from sklearn.model_selection import train_test_split"
   ]
  },
  {
   "cell_type": "code",
   "execution_count": 195,
   "id": "17a1c64b",
   "metadata": {
    "scrolled": false
   },
   "outputs": [],
   "source": [
    "#split dataset into train and test data\n",
    "\n",
    "train,test = train_test_split(\n",
    "    account_data, test_size=0.2, \n",
    "    random_state=123)\n",
    "\n",
    "#I am using 30% for my test because the dataset is very small"
   ]
  },
  {
   "cell_type": "code",
   "execution_count": 196,
   "id": "5c1537ca",
   "metadata": {},
   "outputs": [],
   "source": [
    "#reset index for train and test datasets\n",
    "\n",
    "train.reset_index(drop=True, inplace = True)\n",
    "test.reset_index(drop=True, inplace = True)"
   ]
  },
  {
   "cell_type": "code",
   "execution_count": 197,
   "id": "9cfb6d35",
   "metadata": {},
   "outputs": [
    {
     "data": {
      "text/html": [
       "<div>\n",
       "<style scoped>\n",
       "    .dataframe tbody tr th:only-of-type {\n",
       "        vertical-align: middle;\n",
       "    }\n",
       "\n",
       "    .dataframe tbody tr th {\n",
       "        vertical-align: top;\n",
       "    }\n",
       "\n",
       "    .dataframe thead th {\n",
       "        text-align: right;\n",
       "    }\n",
       "</style>\n",
       "<table border=\"1\" class=\"dataframe\">\n",
       "  <thead>\n",
       "    <tr style=\"text-align: right;\">\n",
       "      <th></th>\n",
       "      <th>index</th>\n",
       "      <th>account_id</th>\n",
       "      <th>event_time</th>\n",
       "      <th>event_type</th>\n",
       "      <th>product_id</th>\n",
       "      <th>event_hour</th>\n",
       "      <th>time_of_day</th>\n",
       "      <th>event_year</th>\n",
       "      <th>event_month</th>\n",
       "      <th>event_date</th>\n",
       "      <th>event_day</th>\n",
       "      <th>event_week</th>\n",
       "      <th>quarter</th>\n",
       "    </tr>\n",
       "  </thead>\n",
       "  <tbody>\n",
       "    <tr>\n",
       "      <th>0</th>\n",
       "      <td>1897</td>\n",
       "      <td>eaecfa7b11e62308832d07ac94dcda6a</td>\n",
       "      <td>2019-11-29 19:51:11.232</td>\n",
       "      <td>ReadingOwnedBook</td>\n",
       "      <td>887</td>\n",
       "      <td>19</td>\n",
       "      <td>Evening</td>\n",
       "      <td>2019</td>\n",
       "      <td>11</td>\n",
       "      <td>29</td>\n",
       "      <td>Friday</td>\n",
       "      <td>48</td>\n",
       "      <td>4</td>\n",
       "    </tr>\n",
       "    <tr>\n",
       "      <th>1</th>\n",
       "      <td>1874</td>\n",
       "      <td>eaecfa7b11e62308832d07ac94dcda6a</td>\n",
       "      <td>2019-11-29 19:42:40.906</td>\n",
       "      <td>ReadingOwnedBook</td>\n",
       "      <td>887</td>\n",
       "      <td>19</td>\n",
       "      <td>Evening</td>\n",
       "      <td>2019</td>\n",
       "      <td>11</td>\n",
       "      <td>29</td>\n",
       "      <td>Friday</td>\n",
       "      <td>48</td>\n",
       "      <td>4</td>\n",
       "    </tr>\n",
       "    <tr>\n",
       "      <th>2</th>\n",
       "      <td>2975</td>\n",
       "      <td>eaecfa7b11e62308832d07ac94dcda6a</td>\n",
       "      <td>2019-11-30 00:09:18.351</td>\n",
       "      <td>ReadingOwnedBook</td>\n",
       "      <td>887</td>\n",
       "      <td>0</td>\n",
       "      <td>Night</td>\n",
       "      <td>2019</td>\n",
       "      <td>11</td>\n",
       "      <td>30</td>\n",
       "      <td>Saturday</td>\n",
       "      <td>48</td>\n",
       "      <td>4</td>\n",
       "    </tr>\n",
       "    <tr>\n",
       "      <th>3</th>\n",
       "      <td>403</td>\n",
       "      <td>eaecfa7b11e62308832d07ac94dcda6a</td>\n",
       "      <td>2019-11-29 13:36:05.895</td>\n",
       "      <td>ReadingOwnedBook</td>\n",
       "      <td>887</td>\n",
       "      <td>13</td>\n",
       "      <td>Afternoon</td>\n",
       "      <td>2019</td>\n",
       "      <td>11</td>\n",
       "      <td>29</td>\n",
       "      <td>Friday</td>\n",
       "      <td>48</td>\n",
       "      <td>4</td>\n",
       "    </tr>\n",
       "    <tr>\n",
       "      <th>4</th>\n",
       "      <td>8</td>\n",
       "      <td>eaecfa7b11e62308832d07ac94dcda6a</td>\n",
       "      <td>2019-11-29 12:13:00.492</td>\n",
       "      <td>ReadingOwnedBook</td>\n",
       "      <td>887</td>\n",
       "      <td>12</td>\n",
       "      <td>Afternoon</td>\n",
       "      <td>2019</td>\n",
       "      <td>11</td>\n",
       "      <td>29</td>\n",
       "      <td>Friday</td>\n",
       "      <td>48</td>\n",
       "      <td>4</td>\n",
       "    </tr>\n",
       "    <tr>\n",
       "      <th>5</th>\n",
       "      <td>1888</td>\n",
       "      <td>eaecfa7b11e62308832d07ac94dcda6a</td>\n",
       "      <td>2019-11-29 19:47:11.172</td>\n",
       "      <td>ReadingOwnedBook</td>\n",
       "      <td>887</td>\n",
       "      <td>19</td>\n",
       "      <td>Evening</td>\n",
       "      <td>2019</td>\n",
       "      <td>11</td>\n",
       "      <td>29</td>\n",
       "      <td>Friday</td>\n",
       "      <td>48</td>\n",
       "      <td>4</td>\n",
       "    </tr>\n",
       "    <tr>\n",
       "      <th>6</th>\n",
       "      <td>319970</td>\n",
       "      <td>eaecfa7b11e62308832d07ac94dcda6a</td>\n",
       "      <td>2020-01-02 13:34:52.613</td>\n",
       "      <td>EBookDownloaded</td>\n",
       "      <td>887</td>\n",
       "      <td>13</td>\n",
       "      <td>Afternoon</td>\n",
       "      <td>2020</td>\n",
       "      <td>1</td>\n",
       "      <td>2</td>\n",
       "      <td>Thursday</td>\n",
       "      <td>1</td>\n",
       "      <td>1</td>\n",
       "    </tr>\n",
       "    <tr>\n",
       "      <th>7</th>\n",
       "      <td>15</td>\n",
       "      <td>eaecfa7b11e62308832d07ac94dcda6a</td>\n",
       "      <td>2019-11-29 12:15:00.768</td>\n",
       "      <td>ReadingOwnedBook</td>\n",
       "      <td>887</td>\n",
       "      <td>12</td>\n",
       "      <td>Afternoon</td>\n",
       "      <td>2019</td>\n",
       "      <td>11</td>\n",
       "      <td>29</td>\n",
       "      <td>Friday</td>\n",
       "      <td>48</td>\n",
       "      <td>4</td>\n",
       "    </tr>\n",
       "  </tbody>\n",
       "</table>\n",
       "</div>"
      ],
      "text/plain": [
       "    index                        account_id              event_time  \\\n",
       "0    1897  eaecfa7b11e62308832d07ac94dcda6a 2019-11-29 19:51:11.232   \n",
       "1    1874  eaecfa7b11e62308832d07ac94dcda6a 2019-11-29 19:42:40.906   \n",
       "2    2975  eaecfa7b11e62308832d07ac94dcda6a 2019-11-30 00:09:18.351   \n",
       "3     403  eaecfa7b11e62308832d07ac94dcda6a 2019-11-29 13:36:05.895   \n",
       "4       8  eaecfa7b11e62308832d07ac94dcda6a 2019-11-29 12:13:00.492   \n",
       "5    1888  eaecfa7b11e62308832d07ac94dcda6a 2019-11-29 19:47:11.172   \n",
       "6  319970  eaecfa7b11e62308832d07ac94dcda6a 2020-01-02 13:34:52.613   \n",
       "7      15  eaecfa7b11e62308832d07ac94dcda6a 2019-11-29 12:15:00.768   \n",
       "\n",
       "         event_type  product_id  event_hour time_of_day  event_year  \\\n",
       "0  ReadingOwnedBook         887          19     Evening        2019   \n",
       "1  ReadingOwnedBook         887          19     Evening        2019   \n",
       "2  ReadingOwnedBook         887           0       Night        2019   \n",
       "3  ReadingOwnedBook         887          13   Afternoon        2019   \n",
       "4  ReadingOwnedBook         887          12   Afternoon        2019   \n",
       "5  ReadingOwnedBook         887          19     Evening        2019   \n",
       "6   EBookDownloaded         887          13   Afternoon        2020   \n",
       "7  ReadingOwnedBook         887          12   Afternoon        2019   \n",
       "\n",
       "   event_month  event_date event_day  event_week  quarter  \n",
       "0           11          29    Friday          48        4  \n",
       "1           11          29    Friday          48        4  \n",
       "2           11          30  Saturday          48        4  \n",
       "3           11          29    Friday          48        4  \n",
       "4           11          29    Friday          48        4  \n",
       "5           11          29    Friday          48        4  \n",
       "6            1           2  Thursday           1        1  \n",
       "7           11          29    Friday          48        4  "
      ]
     },
     "execution_count": 197,
     "metadata": {},
     "output_type": "execute_result"
    }
   ],
   "source": [
    "train"
   ]
  },
  {
   "cell_type": "code",
   "execution_count": 198,
   "id": "9b9f84b1",
   "metadata": {},
   "outputs": [],
   "source": [
    "#Step 1\n",
    "\n",
    "train['target'] = train['event_time'].shift(1)"
   ]
  },
  {
   "cell_type": "code",
   "execution_count": 199,
   "id": "345f6eaa",
   "metadata": {},
   "outputs": [],
   "source": [
    "#Step 2\n",
    "#drop columns that are not needed\n",
    "\n",
    "train.drop(['index','account_id','event_time','product_id','event_week'], axis=1, inplace=True) "
   ]
  },
  {
   "cell_type": "code",
   "execution_count": 200,
   "id": "f598fb3e",
   "metadata": {
    "scrolled": false
   },
   "outputs": [
    {
     "data": {
      "text/html": [
       "<div>\n",
       "<style scoped>\n",
       "    .dataframe tbody tr th:only-of-type {\n",
       "        vertical-align: middle;\n",
       "    }\n",
       "\n",
       "    .dataframe tbody tr th {\n",
       "        vertical-align: top;\n",
       "    }\n",
       "\n",
       "    .dataframe thead th {\n",
       "        text-align: right;\n",
       "    }\n",
       "</style>\n",
       "<table border=\"1\" class=\"dataframe\">\n",
       "  <thead>\n",
       "    <tr style=\"text-align: right;\">\n",
       "      <th></th>\n",
       "      <th>event_type</th>\n",
       "      <th>event_hour</th>\n",
       "      <th>time_of_day</th>\n",
       "      <th>event_year</th>\n",
       "      <th>event_month</th>\n",
       "      <th>event_date</th>\n",
       "      <th>event_day</th>\n",
       "      <th>quarter</th>\n",
       "      <th>target</th>\n",
       "    </tr>\n",
       "  </thead>\n",
       "  <tbody>\n",
       "    <tr>\n",
       "      <th>0</th>\n",
       "      <td>ReadingOwnedBook</td>\n",
       "      <td>19</td>\n",
       "      <td>Evening</td>\n",
       "      <td>2019</td>\n",
       "      <td>11</td>\n",
       "      <td>29</td>\n",
       "      <td>Friday</td>\n",
       "      <td>4</td>\n",
       "      <td>NaT</td>\n",
       "    </tr>\n",
       "    <tr>\n",
       "      <th>1</th>\n",
       "      <td>ReadingOwnedBook</td>\n",
       "      <td>19</td>\n",
       "      <td>Evening</td>\n",
       "      <td>2019</td>\n",
       "      <td>11</td>\n",
       "      <td>29</td>\n",
       "      <td>Friday</td>\n",
       "      <td>4</td>\n",
       "      <td>2019-11-29 19:51:11.232</td>\n",
       "    </tr>\n",
       "    <tr>\n",
       "      <th>2</th>\n",
       "      <td>ReadingOwnedBook</td>\n",
       "      <td>0</td>\n",
       "      <td>Night</td>\n",
       "      <td>2019</td>\n",
       "      <td>11</td>\n",
       "      <td>30</td>\n",
       "      <td>Saturday</td>\n",
       "      <td>4</td>\n",
       "      <td>2019-11-29 19:42:40.906</td>\n",
       "    </tr>\n",
       "    <tr>\n",
       "      <th>3</th>\n",
       "      <td>ReadingOwnedBook</td>\n",
       "      <td>13</td>\n",
       "      <td>Afternoon</td>\n",
       "      <td>2019</td>\n",
       "      <td>11</td>\n",
       "      <td>29</td>\n",
       "      <td>Friday</td>\n",
       "      <td>4</td>\n",
       "      <td>2019-11-30 00:09:18.351</td>\n",
       "    </tr>\n",
       "    <tr>\n",
       "      <th>4</th>\n",
       "      <td>ReadingOwnedBook</td>\n",
       "      <td>12</td>\n",
       "      <td>Afternoon</td>\n",
       "      <td>2019</td>\n",
       "      <td>11</td>\n",
       "      <td>29</td>\n",
       "      <td>Friday</td>\n",
       "      <td>4</td>\n",
       "      <td>2019-11-29 13:36:05.895</td>\n",
       "    </tr>\n",
       "    <tr>\n",
       "      <th>5</th>\n",
       "      <td>ReadingOwnedBook</td>\n",
       "      <td>19</td>\n",
       "      <td>Evening</td>\n",
       "      <td>2019</td>\n",
       "      <td>11</td>\n",
       "      <td>29</td>\n",
       "      <td>Friday</td>\n",
       "      <td>4</td>\n",
       "      <td>2019-11-29 12:13:00.492</td>\n",
       "    </tr>\n",
       "    <tr>\n",
       "      <th>6</th>\n",
       "      <td>EBookDownloaded</td>\n",
       "      <td>13</td>\n",
       "      <td>Afternoon</td>\n",
       "      <td>2020</td>\n",
       "      <td>1</td>\n",
       "      <td>2</td>\n",
       "      <td>Thursday</td>\n",
       "      <td>1</td>\n",
       "      <td>2019-11-29 19:47:11.172</td>\n",
       "    </tr>\n",
       "    <tr>\n",
       "      <th>7</th>\n",
       "      <td>ReadingOwnedBook</td>\n",
       "      <td>12</td>\n",
       "      <td>Afternoon</td>\n",
       "      <td>2019</td>\n",
       "      <td>11</td>\n",
       "      <td>29</td>\n",
       "      <td>Friday</td>\n",
       "      <td>4</td>\n",
       "      <td>2020-01-02 13:34:52.613</td>\n",
       "    </tr>\n",
       "  </tbody>\n",
       "</table>\n",
       "</div>"
      ],
      "text/plain": [
       "         event_type  event_hour time_of_day  event_year  event_month  \\\n",
       "0  ReadingOwnedBook          19     Evening        2019           11   \n",
       "1  ReadingOwnedBook          19     Evening        2019           11   \n",
       "2  ReadingOwnedBook           0       Night        2019           11   \n",
       "3  ReadingOwnedBook          13   Afternoon        2019           11   \n",
       "4  ReadingOwnedBook          12   Afternoon        2019           11   \n",
       "5  ReadingOwnedBook          19     Evening        2019           11   \n",
       "6   EBookDownloaded          13   Afternoon        2020            1   \n",
       "7  ReadingOwnedBook          12   Afternoon        2019           11   \n",
       "\n",
       "   event_date event_day  quarter                  target  \n",
       "0          29    Friday        4                     NaT  \n",
       "1          29    Friday        4 2019-11-29 19:51:11.232  \n",
       "2          30  Saturday        4 2019-11-29 19:42:40.906  \n",
       "3          29    Friday        4 2019-11-30 00:09:18.351  \n",
       "4          29    Friday        4 2019-11-29 13:36:05.895  \n",
       "5          29    Friday        4 2019-11-29 12:13:00.492  \n",
       "6           2  Thursday        1 2019-11-29 19:47:11.172  \n",
       "7          29    Friday        4 2020-01-02 13:34:52.613  "
      ]
     },
     "execution_count": 200,
     "metadata": {},
     "output_type": "execute_result"
    }
   ],
   "source": [
    "train"
   ]
  },
  {
   "cell_type": "code",
   "execution_count": 201,
   "id": "6fe1d03e",
   "metadata": {},
   "outputs": [
    {
     "data": {
      "text/plain": [
       "event_type             object\n",
       "event_hour              int64\n",
       "time_of_day            object\n",
       "event_year              int64\n",
       "event_month             int64\n",
       "event_date              int64\n",
       "event_day              object\n",
       "quarter                 int64\n",
       "target         datetime64[ns]\n",
       "dtype: object"
      ]
     },
     "execution_count": 201,
     "metadata": {},
     "output_type": "execute_result"
    }
   ],
   "source": [
    "#Step 3\n",
    "#check the datatypes\n",
    "\n",
    "train.dtypes"
   ]
  },
  {
   "cell_type": "code",
   "execution_count": 202,
   "id": "e4151916",
   "metadata": {
    "scrolled": true
   },
   "outputs": [
    {
     "data": {
      "text/html": [
       "<div>\n",
       "<style scoped>\n",
       "    .dataframe tbody tr th:only-of-type {\n",
       "        vertical-align: middle;\n",
       "    }\n",
       "\n",
       "    .dataframe tbody tr th {\n",
       "        vertical-align: top;\n",
       "    }\n",
       "\n",
       "    .dataframe thead th {\n",
       "        text-align: right;\n",
       "    }\n",
       "</style>\n",
       "<table border=\"1\" class=\"dataframe\">\n",
       "  <thead>\n",
       "    <tr style=\"text-align: right;\">\n",
       "      <th></th>\n",
       "      <th>event_type</th>\n",
       "      <th>event_hour</th>\n",
       "      <th>time_of_day</th>\n",
       "      <th>event_year</th>\n",
       "      <th>event_month</th>\n",
       "      <th>event_date</th>\n",
       "      <th>event_day</th>\n",
       "      <th>quarter</th>\n",
       "      <th>target</th>\n",
       "    </tr>\n",
       "  </thead>\n",
       "  <tbody>\n",
       "    <tr>\n",
       "      <th>0</th>\n",
       "      <td>1</td>\n",
       "      <td>3</td>\n",
       "      <td>1</td>\n",
       "      <td>0</td>\n",
       "      <td>1</td>\n",
       "      <td>1</td>\n",
       "      <td>0</td>\n",
       "      <td>1</td>\n",
       "      <td>-1</td>\n",
       "    </tr>\n",
       "    <tr>\n",
       "      <th>1</th>\n",
       "      <td>1</td>\n",
       "      <td>3</td>\n",
       "      <td>1</td>\n",
       "      <td>0</td>\n",
       "      <td>1</td>\n",
       "      <td>1</td>\n",
       "      <td>0</td>\n",
       "      <td>1</td>\n",
       "      <td>4</td>\n",
       "    </tr>\n",
       "    <tr>\n",
       "      <th>2</th>\n",
       "      <td>1</td>\n",
       "      <td>0</td>\n",
       "      <td>2</td>\n",
       "      <td>0</td>\n",
       "      <td>1</td>\n",
       "      <td>2</td>\n",
       "      <td>1</td>\n",
       "      <td>1</td>\n",
       "      <td>2</td>\n",
       "    </tr>\n",
       "    <tr>\n",
       "      <th>3</th>\n",
       "      <td>1</td>\n",
       "      <td>2</td>\n",
       "      <td>0</td>\n",
       "      <td>0</td>\n",
       "      <td>1</td>\n",
       "      <td>1</td>\n",
       "      <td>0</td>\n",
       "      <td>1</td>\n",
       "      <td>5</td>\n",
       "    </tr>\n",
       "    <tr>\n",
       "      <th>4</th>\n",
       "      <td>1</td>\n",
       "      <td>1</td>\n",
       "      <td>0</td>\n",
       "      <td>0</td>\n",
       "      <td>1</td>\n",
       "      <td>1</td>\n",
       "      <td>0</td>\n",
       "      <td>1</td>\n",
       "      <td>1</td>\n",
       "    </tr>\n",
       "  </tbody>\n",
       "</table>\n",
       "</div>"
      ],
      "text/plain": [
       "   event_type  event_hour  time_of_day  event_year  event_month  event_date  \\\n",
       "0           1           3            1           0            1           1   \n",
       "1           1           3            1           0            1           1   \n",
       "2           1           0            2           0            1           2   \n",
       "3           1           2            0           0            1           1   \n",
       "4           1           1            0           0            1           1   \n",
       "\n",
       "   event_day  quarter  target  \n",
       "0          0        1      -1  \n",
       "1          0        1       4  \n",
       "2          1        1       2  \n",
       "3          0        1       5  \n",
       "4          0        1       1  "
      ]
     },
     "execution_count": 202,
     "metadata": {},
     "output_type": "execute_result"
    }
   ],
   "source": [
    "#Step 4\n",
    "#create a function to convert object variables to categories so as to convert to numerical values(encoding)\n",
    "\n",
    "train_num = train\n",
    "\n",
    "for col_name in train_num.columns:\n",
    "    if(train_num[col_name].dtype == 'object', 'datetime64'):\n",
    "        train_num[col_name] = train_num[col_name].astype('category')\n",
    "        train_num[col_name] = train_num[col_name].cat.codes\n",
    "        \n",
    "train.head()"
   ]
  },
  {
   "cell_type": "code",
   "execution_count": 203,
   "id": "0f2dac82",
   "metadata": {},
   "outputs": [],
   "source": [
    "#Step 5\n",
    "#Split to features and targets\n",
    "\n",
    "y_train = train['target']\n",
    "X_train = train.drop(['target'],axis=1)"
   ]
  },
  {
   "cell_type": "code",
   "execution_count": 204,
   "id": "69dec557",
   "metadata": {},
   "outputs": [
    {
     "data": {
      "text/plain": [
       "Index(['event_type', 'event_hour', 'time_of_day', 'event_year', 'event_month',\n",
       "       'event_date', 'event_day', 'quarter'],\n",
       "      dtype='object')"
      ]
     },
     "execution_count": 204,
     "metadata": {},
     "output_type": "execute_result"
    }
   ],
   "source": [
    "#Step 6\n",
    "#define x_train columns\n",
    "\n",
    "cols = X_train.columns\n",
    "cols"
   ]
  },
  {
   "cell_type": "code",
   "execution_count": 205,
   "id": "787924a0",
   "metadata": {},
   "outputs": [],
   "source": [
    "#Step 7\n",
    "#scale x_train  \n",
    "\n",
    "scaler = StandardScaler()\n",
    "X_train = scaler.fit_transform(X_train)"
   ]
  },
  {
   "cell_type": "code",
   "execution_count": 206,
   "id": "c876a373",
   "metadata": {},
   "outputs": [
    {
     "data": {
      "text/html": [
       "<div>\n",
       "<style scoped>\n",
       "    .dataframe tbody tr th:only-of-type {\n",
       "        vertical-align: middle;\n",
       "    }\n",
       "\n",
       "    .dataframe tbody tr th {\n",
       "        vertical-align: top;\n",
       "    }\n",
       "\n",
       "    .dataframe thead th {\n",
       "        text-align: right;\n",
       "    }\n",
       "</style>\n",
       "<table border=\"1\" class=\"dataframe\">\n",
       "  <thead>\n",
       "    <tr style=\"text-align: right;\">\n",
       "      <th></th>\n",
       "      <th>event_type</th>\n",
       "      <th>event_hour</th>\n",
       "      <th>time_of_day</th>\n",
       "      <th>event_year</th>\n",
       "      <th>event_month</th>\n",
       "      <th>event_date</th>\n",
       "      <th>event_day</th>\n",
       "      <th>quarter</th>\n",
       "    </tr>\n",
       "  </thead>\n",
       "  <tbody>\n",
       "    <tr>\n",
       "      <th>0</th>\n",
       "      <td>0.377964</td>\n",
       "      <td>1.068103</td>\n",
       "      <td>0.538816</td>\n",
       "      <td>-0.377964</td>\n",
       "      <td>0.377964</td>\n",
       "      <td>0.0</td>\n",
       "      <td>-0.538816</td>\n",
       "      <td>0.377964</td>\n",
       "    </tr>\n",
       "    <tr>\n",
       "      <th>1</th>\n",
       "      <td>0.377964</td>\n",
       "      <td>1.068103</td>\n",
       "      <td>0.538816</td>\n",
       "      <td>-0.377964</td>\n",
       "      <td>0.377964</td>\n",
       "      <td>0.0</td>\n",
       "      <td>-0.538816</td>\n",
       "      <td>0.377964</td>\n",
       "    </tr>\n",
       "    <tr>\n",
       "      <th>2</th>\n",
       "      <td>0.377964</td>\n",
       "      <td>-1.780172</td>\n",
       "      <td>1.975658</td>\n",
       "      <td>-0.377964</td>\n",
       "      <td>0.377964</td>\n",
       "      <td>2.0</td>\n",
       "      <td>0.898027</td>\n",
       "      <td>0.377964</td>\n",
       "    </tr>\n",
       "    <tr>\n",
       "      <th>3</th>\n",
       "      <td>0.377964</td>\n",
       "      <td>0.118678</td>\n",
       "      <td>-0.898027</td>\n",
       "      <td>-0.377964</td>\n",
       "      <td>0.377964</td>\n",
       "      <td>0.0</td>\n",
       "      <td>-0.538816</td>\n",
       "      <td>0.377964</td>\n",
       "    </tr>\n",
       "    <tr>\n",
       "      <th>4</th>\n",
       "      <td>0.377964</td>\n",
       "      <td>-0.830747</td>\n",
       "      <td>-0.898027</td>\n",
       "      <td>-0.377964</td>\n",
       "      <td>0.377964</td>\n",
       "      <td>0.0</td>\n",
       "      <td>-0.538816</td>\n",
       "      <td>0.377964</td>\n",
       "    </tr>\n",
       "    <tr>\n",
       "      <th>5</th>\n",
       "      <td>0.377964</td>\n",
       "      <td>1.068103</td>\n",
       "      <td>0.538816</td>\n",
       "      <td>-0.377964</td>\n",
       "      <td>0.377964</td>\n",
       "      <td>0.0</td>\n",
       "      <td>-0.538816</td>\n",
       "      <td>0.377964</td>\n",
       "    </tr>\n",
       "    <tr>\n",
       "      <th>6</th>\n",
       "      <td>-2.645751</td>\n",
       "      <td>0.118678</td>\n",
       "      <td>-0.898027</td>\n",
       "      <td>2.645751</td>\n",
       "      <td>-2.645751</td>\n",
       "      <td>-2.0</td>\n",
       "      <td>2.334869</td>\n",
       "      <td>-2.645751</td>\n",
       "    </tr>\n",
       "    <tr>\n",
       "      <th>7</th>\n",
       "      <td>0.377964</td>\n",
       "      <td>-0.830747</td>\n",
       "      <td>-0.898027</td>\n",
       "      <td>-0.377964</td>\n",
       "      <td>0.377964</td>\n",
       "      <td>0.0</td>\n",
       "      <td>-0.538816</td>\n",
       "      <td>0.377964</td>\n",
       "    </tr>\n",
       "  </tbody>\n",
       "</table>\n",
       "</div>"
      ],
      "text/plain": [
       "   event_type  event_hour  time_of_day  event_year  event_month  event_date  \\\n",
       "0    0.377964    1.068103     0.538816   -0.377964     0.377964         0.0   \n",
       "1    0.377964    1.068103     0.538816   -0.377964     0.377964         0.0   \n",
       "2    0.377964   -1.780172     1.975658   -0.377964     0.377964         2.0   \n",
       "3    0.377964    0.118678    -0.898027   -0.377964     0.377964         0.0   \n",
       "4    0.377964   -0.830747    -0.898027   -0.377964     0.377964         0.0   \n",
       "5    0.377964    1.068103     0.538816   -0.377964     0.377964         0.0   \n",
       "6   -2.645751    0.118678    -0.898027    2.645751    -2.645751        -2.0   \n",
       "7    0.377964   -0.830747    -0.898027   -0.377964     0.377964         0.0   \n",
       "\n",
       "   event_day   quarter  \n",
       "0  -0.538816  0.377964  \n",
       "1  -0.538816  0.377964  \n",
       "2   0.898027  0.377964  \n",
       "3  -0.538816  0.377964  \n",
       "4  -0.538816  0.377964  \n",
       "5  -0.538816  0.377964  \n",
       "6   2.334869 -2.645751  \n",
       "7  -0.538816  0.377964  "
      ]
     },
     "execution_count": 206,
     "metadata": {},
     "output_type": "execute_result"
    }
   ],
   "source": [
    "#Step 8\n",
    "#put x_train in a dataframe\n",
    "\n",
    "features = pd.DataFrame(X_train, columns=cols)\n",
    "features"
   ]
  },
  {
   "cell_type": "code",
   "execution_count": 207,
   "id": "3f9e435c",
   "metadata": {
    "scrolled": true
   },
   "outputs": [
    {
     "data": {
      "text/plain": [
       "<AxesSubplot:>"
      ]
     },
     "execution_count": 207,
     "metadata": {},
     "output_type": "execute_result"
    },
    {
     "data": {
      "image/png": "[encoded data removed]",
      "text/plain": [
       "<Figure size 1000x800 with 2 Axes>"
      ]
     },
     "metadata": {},
     "output_type": "display_data"
    }
   ],
   "source": [
    "#plot a correlation graph using heatmap to see the correlation between variables\n",
    "\n",
    "plt.figure(figsize=(10,8))\n",
    "corre = features.corr()\n",
    "sns.heatmap(corre, annot= True, cmap=\"YlGnBu\")"
   ]
  },
  {
   "cell_type": "code",
   "execution_count": 208,
   "id": "c6f14c37",
   "metadata": {},
   "outputs": [],
   "source": [
    "corr_matrix = features.corr().abs()\n",
    "upper = corr_matrix.where(np.triu(np.ones(corr_matrix.shape), k=1).astype(bool))\n",
    "to_drop = [column for column in upper.columns if any(upper[column] > 0.85)]\n",
    "\n",
    "features.drop(to_drop, axis=1, inplace=True)"
   ]
  },
  {
   "cell_type": "markdown",
   "id": "79094830",
   "metadata": {},
   "source": [
    "***Feature Importance***"
   ]
  },
  {
   "cell_type": "code",
   "execution_count": 209,
   "id": "b2a6acbd",
   "metadata": {},
   "outputs": [
    {
     "data": {
      "text/html": [
       "<div>\n",
       "<style scoped>\n",
       "    .dataframe tbody tr th:only-of-type {\n",
       "        vertical-align: middle;\n",
       "    }\n",
       "\n",
       "    .dataframe tbody tr th {\n",
       "        vertical-align: top;\n",
       "    }\n",
       "\n",
       "    .dataframe thead th {\n",
       "        text-align: right;\n",
       "    }\n",
       "</style>\n",
       "<table border=\"1\" class=\"dataframe\">\n",
       "  <thead>\n",
       "    <tr style=\"text-align: right;\">\n",
       "      <th></th>\n",
       "      <th>0</th>\n",
       "    </tr>\n",
       "  </thead>\n",
       "  <tbody>\n",
       "    <tr>\n",
       "      <th>time_of_day</th>\n",
       "      <td>0.806452</td>\n",
       "    </tr>\n",
       "    <tr>\n",
       "      <th>event_hour</th>\n",
       "      <td>0.145161</td>\n",
       "    </tr>\n",
       "    <tr>\n",
       "      <th>event_day</th>\n",
       "      <td>0.048387</td>\n",
       "    </tr>\n",
       "    <tr>\n",
       "      <th>event_type</th>\n",
       "      <td>0.000000</td>\n",
       "    </tr>\n",
       "    <tr>\n",
       "      <th>event_year</th>\n",
       "      <td>0.000000</td>\n",
       "    </tr>\n",
       "    <tr>\n",
       "      <th>event_month</th>\n",
       "      <td>0.000000</td>\n",
       "    </tr>\n",
       "    <tr>\n",
       "      <th>event_date</th>\n",
       "      <td>0.000000</td>\n",
       "    </tr>\n",
       "    <tr>\n",
       "      <th>quarter</th>\n",
       "      <td>0.000000</td>\n",
       "    </tr>\n",
       "  </tbody>\n",
       "</table>\n",
       "</div>"
      ],
      "text/plain": [
       "                    0\n",
       "time_of_day  0.806452\n",
       "event_hour   0.145161\n",
       "event_day    0.048387\n",
       "event_type   0.000000\n",
       "event_year   0.000000\n",
       "event_month  0.000000\n",
       "event_date   0.000000\n",
       "quarter      0.000000"
      ]
     },
     "execution_count": 209,
     "metadata": {},
     "output_type": "execute_result"
    }
   ],
   "source": [
    "decision_tree = DecisionTreeRegressor(max_depth = 10)\n",
    "decision_tree.fit(X_train, y_train)\n",
    "predictors = cols\n",
    "\n",
    "coef = pd.Series(decision_tree.feature_importances_, predictors).sort_values(ascending=False)\n",
    "coef.to_frame()"
   ]
  },
  {
   "cell_type": "code",
   "execution_count": 210,
   "id": "b9f6ad95",
   "metadata": {},
   "outputs": [],
   "source": [
    "#Repeat same steps for test\n",
    "#Step 1\n",
    "\n",
    "test['target'] = test['event_time'].shift(1)"
   ]
  },
  {
   "cell_type": "code",
   "execution_count": 211,
   "id": "4486523b",
   "metadata": {},
   "outputs": [],
   "source": [
    "#Step 2\n",
    "#drop columns that are not needed\n",
    "\n",
    "test.drop(['index','account_id','event_time','product_id','event_week'], axis=1, inplace=True) "
   ]
  },
  {
   "cell_type": "code",
   "execution_count": 212,
   "id": "05129b5a",
   "metadata": {},
   "outputs": [
    {
     "data": {
      "text/plain": [
       "event_type             object\n",
       "event_hour              int64\n",
       "time_of_day            object\n",
       "event_year              int64\n",
       "event_month             int64\n",
       "event_date              int64\n",
       "event_day              object\n",
       "quarter                 int64\n",
       "target         datetime64[ns]\n",
       "dtype: object"
      ]
     },
     "execution_count": 212,
     "metadata": {},
     "output_type": "execute_result"
    }
   ],
   "source": [
    "#Step 3\n",
    "#check the datatypes\n",
    "\n",
    "test.dtypes"
   ]
  },
  {
   "cell_type": "code",
   "execution_count": 213,
   "id": "4356a07c",
   "metadata": {},
   "outputs": [
    {
     "data": {
      "text/html": [
       "<div>\n",
       "<style scoped>\n",
       "    .dataframe tbody tr th:only-of-type {\n",
       "        vertical-align: middle;\n",
       "    }\n",
       "\n",
       "    .dataframe tbody tr th {\n",
       "        vertical-align: top;\n",
       "    }\n",
       "\n",
       "    .dataframe thead th {\n",
       "        text-align: right;\n",
       "    }\n",
       "</style>\n",
       "<table border=\"1\" class=\"dataframe\">\n",
       "  <thead>\n",
       "    <tr style=\"text-align: right;\">\n",
       "      <th></th>\n",
       "      <th>event_type</th>\n",
       "      <th>event_hour</th>\n",
       "      <th>time_of_day</th>\n",
       "      <th>event_year</th>\n",
       "      <th>event_month</th>\n",
       "      <th>event_date</th>\n",
       "      <th>event_day</th>\n",
       "      <th>quarter</th>\n",
       "      <th>target</th>\n",
       "    </tr>\n",
       "  </thead>\n",
       "  <tbody>\n",
       "    <tr>\n",
       "      <th>0</th>\n",
       "      <td>0</td>\n",
       "      <td>1</td>\n",
       "      <td>1</td>\n",
       "      <td>0</td>\n",
       "      <td>0</td>\n",
       "      <td>0</td>\n",
       "      <td>0</td>\n",
       "      <td>0</td>\n",
       "      <td>-1</td>\n",
       "    </tr>\n",
       "    <tr>\n",
       "      <th>1</th>\n",
       "      <td>0</td>\n",
       "      <td>0</td>\n",
       "      <td>0</td>\n",
       "      <td>0</td>\n",
       "      <td>0</td>\n",
       "      <td>0</td>\n",
       "      <td>0</td>\n",
       "      <td>0</td>\n",
       "      <td>0</td>\n",
       "    </tr>\n",
       "  </tbody>\n",
       "</table>\n",
       "</div>"
      ],
      "text/plain": [
       "   event_type  event_hour  time_of_day  event_year  event_month  event_date  \\\n",
       "0           0           1            1           0            0           0   \n",
       "1           0           0            0           0            0           0   \n",
       "\n",
       "   event_day  quarter  target  \n",
       "0          0        0      -1  \n",
       "1          0        0       0  "
      ]
     },
     "execution_count": 213,
     "metadata": {},
     "output_type": "execute_result"
    }
   ],
   "source": [
    "#Step 4\n",
    "#create a function to convert object variables to categories so as to convert to numerical values(encoding)\n",
    "\n",
    "test_num = test\n",
    "\n",
    "for col_name in test_num.columns:\n",
    "    if(test_num[col_name].dtype == 'object', 'datetime64'):\n",
    "        test_num[col_name] = test_num[col_name].astype('category')\n",
    "        test_num[col_name] = test_num[col_name].cat.codes\n",
    "        \n",
    "test"
   ]
  },
  {
   "cell_type": "code",
   "execution_count": 214,
   "id": "4bcba2f5",
   "metadata": {},
   "outputs": [],
   "source": [
    "#Step 5\n",
    "#Split to features and targets\n",
    "\n",
    "y_test = test['target']\n",
    "X_test = test.drop(['target'],axis=1)"
   ]
  },
  {
   "cell_type": "code",
   "execution_count": 215,
   "id": "f474d1fb",
   "metadata": {},
   "outputs": [
    {
     "data": {
      "text/plain": [
       "Index(['event_type', 'event_hour', 'time_of_day', 'event_year', 'event_month',\n",
       "       'event_date', 'event_day', 'quarter'],\n",
       "      dtype='object')"
      ]
     },
     "execution_count": 215,
     "metadata": {},
     "output_type": "execute_result"
    }
   ],
   "source": [
    "#Step 6\n",
    "#define x_train columns\n",
    "\n",
    "cols1 = X_test.columns\n",
    "cols1"
   ]
  },
  {
   "cell_type": "code",
   "execution_count": 216,
   "id": "13f9ff92",
   "metadata": {},
   "outputs": [],
   "source": [
    "#Step 7\n",
    "#scale x_train  \n",
    "\n",
    "#scaler = StandardScaler()\n",
    "X_test = scaler.fit_transform(X_test)"
   ]
  },
  {
   "cell_type": "code",
   "execution_count": 217,
   "id": "4cdac129",
   "metadata": {},
   "outputs": [
    {
     "data": {
      "text/plain": [
       "array([[ 0.,  1.,  1.,  0.,  0.,  0.,  0.,  0.],\n",
       "       [ 0., -1., -1.,  0.,  0.,  0.,  0.,  0.]])"
      ]
     },
     "execution_count": 217,
     "metadata": {},
     "output_type": "execute_result"
    }
   ],
   "source": [
    "#scale and fit data\n",
    "\n",
    "X_test "
   ]
  },
  {
   "cell_type": "code",
   "execution_count": 229,
   "id": "9f92a047",
   "metadata": {},
   "outputs": [],
   "source": [
    "#import encoder for target data\n",
    "\n",
    "from sklearn.preprocessing import OneHotEncoder\n",
    "encoder = OneHotEncoder(categories='auto', drop='first', \n",
    "    sparse=False)\n"
   ]
  },
  {
   "cell_type": "code",
   "execution_count": 230,
   "id": "fe21f297",
   "metadata": {},
   "outputs": [],
   "source": [
    "#encode and fit target data\n",
    "\n",
    "y_train=encoder.fit_transform(y_train.values.reshape(-1, 1))\n",
    "y_test=encoder.fit_transform(y_test.values.reshape(-1, 1))"
   ]
  },
  {
   "cell_type": "markdown",
   "id": "14dd8568",
   "metadata": {},
   "source": [
    "***Model Building***"
   ]
  },
  {
   "cell_type": "code",
   "execution_count": 218,
   "id": "b6a9e576",
   "metadata": {},
   "outputs": [],
   "source": [
    "#Write a function for KNN model \n",
    "def model_to_use(input_ml_algo):\n",
    "    if input_ml_algo=='KNN':\n",
    "        model=KNeighborsRegressor()\n",
    "    return model"
   ]
  },
  {
   "cell_type": "code",
   "execution_count": 219,
   "id": "7ea8bc16",
   "metadata": {},
   "outputs": [],
   "source": [
    "def evaluate(model):\n",
    "    y_train_pred = model.predict(X_train) \n",
    "    y_pred = model.predict(X_test) \n",
    "    \n",
    "    print('Train r2 score: ', r2_score(y_train,y_train_pred))\n",
    "    print('Test r2 score: ', r2_score(y_test, y_pred))\n",
    "\n",
    "\n",
    "    print('train_mse1: ', mean_squared_error(y_train,y_train_pred))\n",
    "    print('test_mse1: ', mean_squared_error(y_test,y_pred))  \n",
    "\n",
    "    plt.subplots(figsize=(8,5))\n",
    "    plt.scatter(y_test,y_pred)\n",
    "    plt.plot(np.unique(y_test), np.poly1d(np.polyfit(y_test, y_pred, 1))(np.unique(y_test)),c='r')\n",
    "    plt.title('Predicted vs Actual')\n",
    "    plt.xlabel('Predicted')\n",
    "    plt.ylabel('Actual')\n",
    "    plt.grid()\n",
    "    plt.show() "
   ]
  },
  {
   "cell_type": "code",
   "execution_count": 220,
   "id": "56dcb724",
   "metadata": {},
   "outputs": [
    {
     "name": "stdout",
     "output_type": "stream",
     "text": [
      "Train r2 score:  0.05238095238095242\n",
      "Test r2 score:  -48.36\n",
      "train_mse1:  4.975\n",
      "test_mse1:  12.34\n"
     ]
    },
    {
     "data": {
      "image/png": "[encoded data removed]",
      "text/plain": [
       "<Figure size 800x500 with 1 Axes>"
      ]
     },
     "metadata": {},
     "output_type": "display_data"
    }
   ],
   "source": [
    "model = model_to_use(\"KNN\")\n",
    "model.fit(X_train, y_train)\n",
    "evaluate(model)"
   ]
  },
  {
   "cell_type": "code",
   "execution_count": null,
   "id": "b7580c2d",
   "metadata": {},
   "outputs": [],
   "source": []
  }
 ],
 "metadata": {
  "kernelspec": {
   "display_name": "Python 3 (ipykernel)",
   "language": "python",
   "name": "python3"
  },
  "language_info": {
   "codemirror_mode": {
    "name": "ipython",
    "version": 3
   },
   "file_extension": ".py",
   "mimetype": "text/x-python",
   "name": "python",
   "nbconvert_exporter": "python",
   "pygments_lexer": "ipython3",
   "version": "3.9.13"
  }
 },
 "nbformat": 4,
 "nbformat_minor": 5
}
